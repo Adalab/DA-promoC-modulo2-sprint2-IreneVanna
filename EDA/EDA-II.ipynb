{
 "cells": [
  {
   "cell_type": "markdown",
   "metadata": {},
   "source": [
    "# Pair Programming EDA II"
   ]
  },
  {
   "cell_type": "markdown",
   "metadata": {},
   "source": [
    "###  Objetivos\n",
    "\n",
    "Usad la librería *sidetable* para:\n",
    "\n",
    "1. Explorar los valores nulos.\n",
    "2. Explorad la columna de country y reportad los resultados solo para aquellas categorías que incluyan el 70% de los datos.\n",
    "3. Explorad la columna country en relación al sexo, filtrando de nuevo por aquellas categorías que incluyan el 70% de los datos.\n",
    "4. Haced los mismo para la columna activity en relación a la columna fatal. En este caso filtrad y mostrad los datos que incluyan el 60% de los datos.\n",
    "5. Por último, realizad este análisis para la columna fecha (la que creamos en el último ejercicio de pair programming de Pandas) en relación a la columna fatal. Mostrad solo los resultados para las categorías que incluyan el 60% de los datos."
   ]
  },
  {
   "cell_type": "markdown",
   "metadata": {},
   "source": [
    "📌 Nota Igual que siempre, no nos vale solo con picar el código, queremos que nos incluyais las conclusiones que extraeis."
   ]
  },
  {
   "cell_type": "code",
   "execution_count": 2,
   "metadata": {},
   "outputs": [],
   "source": [
    "import pandas as pd\n",
    "import sidetable\n",
    "import numpy as np"
   ]
  },
  {
   "cell_type": "code",
   "execution_count": 3,
   "metadata": {},
   "outputs": [],
   "source": [
    "df = pd.read_csv('../datos/datos_limpiezaI.csv', index_col= 0)\n",
    "pd.options.display.max_columns=None"
   ]
  },
  {
   "cell_type": "markdown",
   "metadata": {},
   "source": [
    "1.  Explorar los valores nulos.\n",
    "\n",
    "    Hemos averiguado la cantidad en % de los nulos en nuestro *DataFrame* y hemos visto que en general no tiene muchos. Parece que sonb datos robustos."
   ]
  },
  {
   "cell_type": "code",
   "execution_count": 4,
   "metadata": {},
   "outputs": [
    {
     "data": {
      "text/html": [
       "<style type=\"text/css\">\n",
       "</style>\n",
       "<table id=\"T_2f5fa\">\n",
       "  <thead>\n",
       "    <tr>\n",
       "      <th class=\"blank level0\" >&nbsp;</th>\n",
       "      <th id=\"T_2f5fa_level0_col0\" class=\"col_heading level0 col0\" >missing</th>\n",
       "      <th id=\"T_2f5fa_level0_col1\" class=\"col_heading level0 col1\" >total</th>\n",
       "      <th id=\"T_2f5fa_level0_col2\" class=\"col_heading level0 col2\" >percent</th>\n",
       "    </tr>\n",
       "  </thead>\n",
       "  <tbody>\n",
       "    <tr>\n",
       "      <th id=\"T_2f5fa_level0_row0\" class=\"row_heading level0 row0\" >age</th>\n",
       "      <td id=\"T_2f5fa_row0_col0\" class=\"data row0 col0\" >148</td>\n",
       "      <td id=\"T_2f5fa_row0_col1\" class=\"data row0 col1\" >1,666</td>\n",
       "      <td id=\"T_2f5fa_row0_col2\" class=\"data row0 col2\" >8.88%</td>\n",
       "    </tr>\n",
       "    <tr>\n",
       "      <th id=\"T_2f5fa_level0_row1\" class=\"row_heading level0 row1\" >species_</th>\n",
       "      <td id=\"T_2f5fa_row1_col0\" class=\"data row1 col0\" >121</td>\n",
       "      <td id=\"T_2f5fa_row1_col1\" class=\"data row1 col1\" >1,666</td>\n",
       "      <td id=\"T_2f5fa_row1_col2\" class=\"data row1 col2\" >7.26%</td>\n",
       "    </tr>\n",
       "    <tr>\n",
       "      <th id=\"T_2f5fa_level0_row2\" class=\"row_heading level0 row2\" >fatal</th>\n",
       "      <td id=\"T_2f5fa_row2_col0\" class=\"data row2 col0\" >97</td>\n",
       "      <td id=\"T_2f5fa_row2_col1\" class=\"data row2 col1\" >1,666</td>\n",
       "      <td id=\"T_2f5fa_row2_col2\" class=\"data row2 col2\" >5.82%</td>\n",
       "    </tr>\n",
       "    <tr>\n",
       "      <th id=\"T_2f5fa_level0_row3\" class=\"row_heading level0 row3\" >mes</th>\n",
       "      <td id=\"T_2f5fa_row3_col0\" class=\"data row3 col0\" >49</td>\n",
       "      <td id=\"T_2f5fa_row3_col1\" class=\"data row3 col1\" >1,666</td>\n",
       "      <td id=\"T_2f5fa_row3_col2\" class=\"data row3 col2\" >2.94%</td>\n",
       "    </tr>\n",
       "    <tr>\n",
       "      <th id=\"T_2f5fa_level0_row4\" class=\"row_heading level0 row4\" >sexo</th>\n",
       "      <td id=\"T_2f5fa_row4_col0\" class=\"data row4 col0\" >14</td>\n",
       "      <td id=\"T_2f5fa_row4_col1\" class=\"data row4 col1\" >1,666</td>\n",
       "      <td id=\"T_2f5fa_row4_col2\" class=\"data row4 col2\" >0.84%</td>\n",
       "    </tr>\n",
       "    <tr>\n",
       "      <th id=\"T_2f5fa_level0_row5\" class=\"row_heading level0 row5\" >country</th>\n",
       "      <td id=\"T_2f5fa_row5_col0\" class=\"data row5 col0\" >10</td>\n",
       "      <td id=\"T_2f5fa_row5_col1\" class=\"data row5 col1\" >1,666</td>\n",
       "      <td id=\"T_2f5fa_row5_col2\" class=\"data row5 col2\" >0.60%</td>\n",
       "    </tr>\n",
       "    <tr>\n",
       "      <th id=\"T_2f5fa_level0_row6\" class=\"row_heading level0 row6\" >year</th>\n",
       "      <td id=\"T_2f5fa_row6_col0\" class=\"data row6 col0\" >0</td>\n",
       "      <td id=\"T_2f5fa_row6_col1\" class=\"data row6 col1\" >1,666</td>\n",
       "      <td id=\"T_2f5fa_row6_col2\" class=\"data row6 col2\" >0.00%</td>\n",
       "    </tr>\n",
       "    <tr>\n",
       "      <th id=\"T_2f5fa_level0_row7\" class=\"row_heading level0 row7\" >date</th>\n",
       "      <td id=\"T_2f5fa_row7_col0\" class=\"data row7 col0\" >0</td>\n",
       "      <td id=\"T_2f5fa_row7_col1\" class=\"data row7 col1\" >1,666</td>\n",
       "      <td id=\"T_2f5fa_row7_col2\" class=\"data row7 col2\" >0.00%</td>\n",
       "    </tr>\n",
       "  </tbody>\n",
       "</table>\n"
      ],
      "text/plain": [
       "<pandas.io.formats.style.Styler at 0x7f81e102ca60>"
      ]
     },
     "execution_count": 4,
     "metadata": {},
     "output_type": "execute_result"
    }
   ],
   "source": [
    "df.stb.missing(style = True)"
   ]
  },
  {
   "cell_type": "markdown",
   "metadata": {},
   "source": [
    "2. Explorad la columna de country y reportad los resultados solo para aquellas categorías que incluyan el 70% de los datos.\n",
    "\n",
    "    Hemos visto que el 70% de los ataques se concentran en Estados Unidos y Australia, y el restante 30% en los otros paises."
   ]
  },
  {
   "cell_type": "code",
   "execution_count": 5,
   "metadata": {},
   "outputs": [
    {
     "data": {
      "text/html": [
       "<style type=\"text/css\">\n",
       "</style>\n",
       "<table id=\"T_1168d\">\n",
       "  <thead>\n",
       "    <tr>\n",
       "      <th class=\"blank level0\" >&nbsp;</th>\n",
       "      <th id=\"T_1168d_level0_col0\" class=\"col_heading level0 col0\" >country</th>\n",
       "      <th id=\"T_1168d_level0_col1\" class=\"col_heading level0 col1\" >count</th>\n",
       "      <th id=\"T_1168d_level0_col2\" class=\"col_heading level0 col2\" >percent</th>\n",
       "      <th id=\"T_1168d_level0_col3\" class=\"col_heading level0 col3\" >cumulative_count</th>\n",
       "      <th id=\"T_1168d_level0_col4\" class=\"col_heading level0 col4\" >cumulative_percent</th>\n",
       "    </tr>\n",
       "  </thead>\n",
       "  <tbody>\n",
       "    <tr>\n",
       "      <th id=\"T_1168d_level0_row0\" class=\"row_heading level0 row0\" >0</th>\n",
       "      <td id=\"T_1168d_row0_col0\" class=\"data row0 col0\" >usa</td>\n",
       "      <td id=\"T_1168d_row0_col1\" class=\"data row0 col1\" >741</td>\n",
       "      <td id=\"T_1168d_row0_col2\" class=\"data row0 col2\" >44.75%</td>\n",
       "      <td id=\"T_1168d_row0_col3\" class=\"data row0 col3\" >741</td>\n",
       "      <td id=\"T_1168d_row0_col4\" class=\"data row0 col4\" >44.75%</td>\n",
       "    </tr>\n",
       "    <tr>\n",
       "      <th id=\"T_1168d_level0_row1\" class=\"row_heading level0 row1\" >1</th>\n",
       "      <td id=\"T_1168d_row1_col0\" class=\"data row1 col0\" >australia</td>\n",
       "      <td id=\"T_1168d_row1_col1\" class=\"data row1 col1\" >341</td>\n",
       "      <td id=\"T_1168d_row1_col2\" class=\"data row1 col2\" >20.59%</td>\n",
       "      <td id=\"T_1168d_row1_col3\" class=\"data row1 col3\" >1,082</td>\n",
       "      <td id=\"T_1168d_row1_col4\" class=\"data row1 col4\" >65.34%</td>\n",
       "    </tr>\n",
       "    <tr>\n",
       "      <th id=\"T_1168d_level0_row2\" class=\"row_heading level0 row2\" >2</th>\n",
       "      <td id=\"T_1168d_row2_col0\" class=\"data row2 col0\" >Other Countries</td>\n",
       "      <td id=\"T_1168d_row2_col1\" class=\"data row2 col1\" >574</td>\n",
       "      <td id=\"T_1168d_row2_col2\" class=\"data row2 col2\" >34.66%</td>\n",
       "      <td id=\"T_1168d_row2_col3\" class=\"data row2 col3\" >1,656</td>\n",
       "      <td id=\"T_1168d_row2_col4\" class=\"data row2 col4\" >100.00%</td>\n",
       "    </tr>\n",
       "  </tbody>\n",
       "</table>\n"
      ],
      "text/plain": [
       "<pandas.io.formats.style.Styler at 0x7f81e318e6d0>"
      ]
     },
     "execution_count": 5,
     "metadata": {},
     "output_type": "execute_result"
    }
   ],
   "source": [
    "df.stb.freq([\"country\"], thresh = 70, other_label =\"Other Countries\", style = True)"
   ]
  },
  {
   "cell_type": "markdown",
   "metadata": {},
   "source": [
    "3. Explorad la columna country en relación al sexo, filtrando de nuevo por aquellas categorías que incluyan el 70% de los datos.\n",
    "\n",
    "    Los ataques se producen en la mayoria de los casos a hombres y en Estados Unidos, Australia y Sudafrica."
   ]
  },
  {
   "cell_type": "code",
   "execution_count": 6,
   "metadata": {},
   "outputs": [
    {
     "data": {
      "text/plain": [
       "Index(['year', 'country', 'age', 'species_', 'date', 'mes', 'fatal', 'sexo'], dtype='object')"
      ]
     },
     "execution_count": 6,
     "metadata": {},
     "output_type": "execute_result"
    }
   ],
   "source": [
    "df.columns"
   ]
  },
  {
   "cell_type": "code",
   "execution_count": 7,
   "metadata": {},
   "outputs": [
    {
     "data": {
      "text/plain": [
       "array(['F', 'M', nan], dtype=object)"
      ]
     },
     "execution_count": 7,
     "metadata": {},
     "output_type": "execute_result"
    }
   ],
   "source": [
    "df[\"sexo\"].unique()"
   ]
  },
  {
   "cell_type": "code",
   "execution_count": 8,
   "metadata": {},
   "outputs": [
    {
     "data": {
      "text/html": [
       "<style type=\"text/css\">\n",
       "</style>\n",
       "<table id=\"T_ed42e\">\n",
       "  <thead>\n",
       "    <tr>\n",
       "      <th class=\"blank level0\" >&nbsp;</th>\n",
       "      <th id=\"T_ed42e_level0_col0\" class=\"col_heading level0 col0\" >country</th>\n",
       "      <th id=\"T_ed42e_level0_col1\" class=\"col_heading level0 col1\" >sexo</th>\n",
       "      <th id=\"T_ed42e_level0_col2\" class=\"col_heading level0 col2\" >count</th>\n",
       "      <th id=\"T_ed42e_level0_col3\" class=\"col_heading level0 col3\" >percent</th>\n",
       "      <th id=\"T_ed42e_level0_col4\" class=\"col_heading level0 col4\" >cumulative_count</th>\n",
       "      <th id=\"T_ed42e_level0_col5\" class=\"col_heading level0 col5\" >cumulative_percent</th>\n",
       "    </tr>\n",
       "  </thead>\n",
       "  <tbody>\n",
       "    <tr>\n",
       "      <th id=\"T_ed42e_level0_row0\" class=\"row_heading level0 row0\" >0</th>\n",
       "      <td id=\"T_ed42e_row0_col0\" class=\"data row0 col0\" >usa</td>\n",
       "      <td id=\"T_ed42e_row0_col1\" class=\"data row0 col1\" >M</td>\n",
       "      <td id=\"T_ed42e_row0_col2\" class=\"data row0 col2\" >609</td>\n",
       "      <td id=\"T_ed42e_row0_col3\" class=\"data row0 col3\" >37.04%</td>\n",
       "      <td id=\"T_ed42e_row0_col4\" class=\"data row0 col4\" >609</td>\n",
       "      <td id=\"T_ed42e_row0_col5\" class=\"data row0 col5\" >37.04%</td>\n",
       "    </tr>\n",
       "    <tr>\n",
       "      <th id=\"T_ed42e_level0_row1\" class=\"row_heading level0 row1\" >1</th>\n",
       "      <td id=\"T_ed42e_row1_col0\" class=\"data row1 col0\" >australia</td>\n",
       "      <td id=\"T_ed42e_row1_col1\" class=\"data row1 col1\" >M</td>\n",
       "      <td id=\"T_ed42e_row1_col2\" class=\"data row1 col2\" >307</td>\n",
       "      <td id=\"T_ed42e_row1_col3\" class=\"data row1 col3\" >18.67%</td>\n",
       "      <td id=\"T_ed42e_row1_col4\" class=\"data row1 col4\" >916</td>\n",
       "      <td id=\"T_ed42e_row1_col5\" class=\"data row1 col5\" >55.72%</td>\n",
       "    </tr>\n",
       "    <tr>\n",
       "      <th id=\"T_ed42e_level0_row2\" class=\"row_heading level0 row2\" >2</th>\n",
       "      <td id=\"T_ed42e_row2_col0\" class=\"data row2 col0\" >south africa</td>\n",
       "      <td id=\"T_ed42e_row2_col1\" class=\"data row2 col1\" >M</td>\n",
       "      <td id=\"T_ed42e_row2_col2\" class=\"data row2 col2\" >223</td>\n",
       "      <td id=\"T_ed42e_row2_col3\" class=\"data row2 col3\" >13.56%</td>\n",
       "      <td id=\"T_ed42e_row2_col4\" class=\"data row2 col4\" >1,139</td>\n",
       "      <td id=\"T_ed42e_row2_col5\" class=\"data row2 col5\" >69.28%</td>\n",
       "    </tr>\n",
       "    <tr>\n",
       "      <th id=\"T_ed42e_level0_row3\" class=\"row_heading level0 row3\" >3</th>\n",
       "      <td id=\"T_ed42e_row3_col0\" class=\"data row3 col0\" >others</td>\n",
       "      <td id=\"T_ed42e_row3_col1\" class=\"data row3 col1\" >others</td>\n",
       "      <td id=\"T_ed42e_row3_col2\" class=\"data row3 col2\" >505</td>\n",
       "      <td id=\"T_ed42e_row3_col3\" class=\"data row3 col3\" >30.72%</td>\n",
       "      <td id=\"T_ed42e_row3_col4\" class=\"data row3 col4\" >1,644</td>\n",
       "      <td id=\"T_ed42e_row3_col5\" class=\"data row3 col5\" >100.00%</td>\n",
       "    </tr>\n",
       "  </tbody>\n",
       "</table>\n"
      ],
      "text/plain": [
       "<pandas.io.formats.style.Styler at 0x7f81e0fe6fd0>"
      ]
     },
     "execution_count": 8,
     "metadata": {},
     "output_type": "execute_result"
    }
   ],
   "source": [
    "df.stb.freq([\"country\",\"sexo\"], thresh = 70, style = True)"
   ]
  },
  {
   "cell_type": "markdown",
   "metadata": {},
   "source": [
    "4. Haced los mismo para la columna activity en relación a la columna fatal. En este caso filtrad y mostrad los datos que incluyan el 60% de los datos.\n",
    "\n",
    "    Podemos estar tranquilas porque la mayoria de las actividades acuatica no son letales a los ataques de tiburones. \n",
    "    \n",
    "    Aunque si que tienes que tener cuidado si va a surfear(1,68%) o a nadar (5,09%).\n",
    "    Todo teniendo en cuenta que estamos mirando el 60% de los datos."
   ]
  },
  {
   "cell_type": "code",
   "execution_count": 11,
   "metadata": {},
   "outputs": [
    {
     "data": {
      "text/plain": [
       "Index(['case_number', 'year', 'type', 'country', 'area', 'location',\n",
       "       'activity', 'name', 'age', 'time', 'species_', 'href', 'injury', 'date',\n",
       "       'mes', 'fatal', 'sexo'],\n",
       "      dtype='object')"
      ]
     },
     "execution_count": 11,
     "metadata": {},
     "output_type": "execute_result"
    }
   ],
   "source": [
    "df2 = pd.read_csv('../datos/datos_ataques.csv', index_col= 0)\n",
    "df2.columns"
   ]
  },
  {
   "cell_type": "code",
   "execution_count": 12,
   "metadata": {},
   "outputs": [
    {
     "data": {
      "text/html": [
       "<style type=\"text/css\">\n",
       "</style>\n",
       "<table id=\"T_7faf4\">\n",
       "  <thead>\n",
       "    <tr>\n",
       "      <th class=\"blank level0\" >&nbsp;</th>\n",
       "      <th id=\"T_7faf4_level0_col0\" class=\"col_heading level0 col0\" >activity</th>\n",
       "      <th id=\"T_7faf4_level0_col1\" class=\"col_heading level0 col1\" >fatal</th>\n",
       "      <th id=\"T_7faf4_level0_col2\" class=\"col_heading level0 col2\" >count</th>\n",
       "      <th id=\"T_7faf4_level0_col3\" class=\"col_heading level0 col3\" >percent</th>\n",
       "      <th id=\"T_7faf4_level0_col4\" class=\"col_heading level0 col4\" >cumulative_count</th>\n",
       "      <th id=\"T_7faf4_level0_col5\" class=\"col_heading level0 col5\" >cumulative_percent</th>\n",
       "    </tr>\n",
       "  </thead>\n",
       "  <tbody>\n",
       "    <tr>\n",
       "      <th id=\"T_7faf4_level0_row0\" class=\"row_heading level0 row0\" >0</th>\n",
       "      <td id=\"T_7faf4_row0_col0\" class=\"data row0 col0\" >Surfing</td>\n",
       "      <td id=\"T_7faf4_row0_col1\" class=\"data row0 col1\" >n</td>\n",
       "      <td id=\"T_7faf4_row0_col2\" class=\"data row0 col2\" >380</td>\n",
       "      <td id=\"T_7faf4_row0_col3\" class=\"data row0 col3\" >24.50%</td>\n",
       "      <td id=\"T_7faf4_row0_col4\" class=\"data row0 col4\" >380</td>\n",
       "      <td id=\"T_7faf4_row0_col5\" class=\"data row0 col5\" >24.50%</td>\n",
       "    </tr>\n",
       "    <tr>\n",
       "      <th id=\"T_7faf4_level0_row1\" class=\"row_heading level0 row1\" >1</th>\n",
       "      <td id=\"T_7faf4_row1_col0\" class=\"data row1 col0\" >Swimming</td>\n",
       "      <td id=\"T_7faf4_row1_col1\" class=\"data row1 col1\" >n</td>\n",
       "      <td id=\"T_7faf4_row1_col2\" class=\"data row1 col2\" >140</td>\n",
       "      <td id=\"T_7faf4_row1_col3\" class=\"data row1 col3\" >9.03%</td>\n",
       "      <td id=\"T_7faf4_row1_col4\" class=\"data row1 col4\" >520</td>\n",
       "      <td id=\"T_7faf4_row1_col5\" class=\"data row1 col5\" >33.53%</td>\n",
       "    </tr>\n",
       "    <tr>\n",
       "      <th id=\"T_7faf4_level0_row2\" class=\"row_heading level0 row2\" >2</th>\n",
       "      <td id=\"T_7faf4_row2_col0\" class=\"data row2 col0\" >Spearfishing</td>\n",
       "      <td id=\"T_7faf4_row2_col1\" class=\"data row2 col1\" >n</td>\n",
       "      <td id=\"T_7faf4_row2_col2\" class=\"data row2 col2\" >85</td>\n",
       "      <td id=\"T_7faf4_row2_col3\" class=\"data row2 col3\" >5.48%</td>\n",
       "      <td id=\"T_7faf4_row2_col4\" class=\"data row2 col4\" >605</td>\n",
       "      <td id=\"T_7faf4_row2_col5\" class=\"data row2 col5\" >39.01%</td>\n",
       "    </tr>\n",
       "    <tr>\n",
       "      <th id=\"T_7faf4_level0_row3\" class=\"row_heading level0 row3\" >3</th>\n",
       "      <td id=\"T_7faf4_row3_col0\" class=\"data row3 col0\" >Swimming</td>\n",
       "      <td id=\"T_7faf4_row3_col1\" class=\"data row3 col1\" >y</td>\n",
       "      <td id=\"T_7faf4_row3_col2\" class=\"data row3 col2\" >79</td>\n",
       "      <td id=\"T_7faf4_row3_col3\" class=\"data row3 col3\" >5.09%</td>\n",
       "      <td id=\"T_7faf4_row3_col4\" class=\"data row3 col4\" >684</td>\n",
       "      <td id=\"T_7faf4_row3_col5\" class=\"data row3 col5\" >44.10%</td>\n",
       "    </tr>\n",
       "    <tr>\n",
       "      <th id=\"T_7faf4_level0_row4\" class=\"row_heading level0 row4\" >4</th>\n",
       "      <td id=\"T_7faf4_row4_col0\" class=\"data row4 col0\" >Fishing</td>\n",
       "      <td id=\"T_7faf4_row4_col1\" class=\"data row4 col1\" >n</td>\n",
       "      <td id=\"T_7faf4_row4_col2\" class=\"data row4 col2\" >50</td>\n",
       "      <td id=\"T_7faf4_row4_col3\" class=\"data row4 col3\" >3.22%</td>\n",
       "      <td id=\"T_7faf4_row4_col4\" class=\"data row4 col4\" >734</td>\n",
       "      <td id=\"T_7faf4_row4_col5\" class=\"data row4 col5\" >47.32%</td>\n",
       "    </tr>\n",
       "    <tr>\n",
       "      <th id=\"T_7faf4_level0_row5\" class=\"row_heading level0 row5\" >5</th>\n",
       "      <td id=\"T_7faf4_row5_col0\" class=\"data row5 col0\" >Wading</td>\n",
       "      <td id=\"T_7faf4_row5_col1\" class=\"data row5 col1\" >n</td>\n",
       "      <td id=\"T_7faf4_row5_col2\" class=\"data row5 col2\" >43</td>\n",
       "      <td id=\"T_7faf4_row5_col3\" class=\"data row5 col3\" >2.77%</td>\n",
       "      <td id=\"T_7faf4_row5_col4\" class=\"data row5 col4\" >777</td>\n",
       "      <td id=\"T_7faf4_row5_col5\" class=\"data row5 col5\" >50.10%</td>\n",
       "    </tr>\n",
       "    <tr>\n",
       "      <th id=\"T_7faf4_level0_row6\" class=\"row_heading level0 row6\" >6</th>\n",
       "      <td id=\"T_7faf4_row6_col0\" class=\"data row6 col0\" >Standing</td>\n",
       "      <td id=\"T_7faf4_row6_col1\" class=\"data row6 col1\" >n</td>\n",
       "      <td id=\"T_7faf4_row6_col2\" class=\"data row6 col2\" >30</td>\n",
       "      <td id=\"T_7faf4_row6_col3\" class=\"data row6 col3\" >1.93%</td>\n",
       "      <td id=\"T_7faf4_row6_col4\" class=\"data row6 col4\" >807</td>\n",
       "      <td id=\"T_7faf4_row6_col5\" class=\"data row6 col5\" >52.03%</td>\n",
       "    </tr>\n",
       "    <tr>\n",
       "      <th id=\"T_7faf4_level0_row7\" class=\"row_heading level0 row7\" >7</th>\n",
       "      <td id=\"T_7faf4_row7_col0\" class=\"data row7 col0\" >Snorkeling</td>\n",
       "      <td id=\"T_7faf4_row7_col1\" class=\"data row7 col1\" >n</td>\n",
       "      <td id=\"T_7faf4_row7_col2\" class=\"data row7 col2\" >29</td>\n",
       "      <td id=\"T_7faf4_row7_col3\" class=\"data row7 col3\" >1.87%</td>\n",
       "      <td id=\"T_7faf4_row7_col4\" class=\"data row7 col4\" >836</td>\n",
       "      <td id=\"T_7faf4_row7_col5\" class=\"data row7 col5\" >53.90%</td>\n",
       "    </tr>\n",
       "    <tr>\n",
       "      <th id=\"T_7faf4_level0_row8\" class=\"row_heading level0 row8\" >8</th>\n",
       "      <td id=\"T_7faf4_row8_col0\" class=\"data row8 col0\" >Surfing</td>\n",
       "      <td id=\"T_7faf4_row8_col1\" class=\"data row8 col1\" >y</td>\n",
       "      <td id=\"T_7faf4_row8_col2\" class=\"data row8 col2\" >26</td>\n",
       "      <td id=\"T_7faf4_row8_col3\" class=\"data row8 col3\" >1.68%</td>\n",
       "      <td id=\"T_7faf4_row8_col4\" class=\"data row8 col4\" >862</td>\n",
       "      <td id=\"T_7faf4_row8_col5\" class=\"data row8 col5\" >55.58%</td>\n",
       "    </tr>\n",
       "    <tr>\n",
       "      <th id=\"T_7faf4_level0_row9\" class=\"row_heading level0 row9\" >9</th>\n",
       "      <td id=\"T_7faf4_row9_col0\" class=\"data row9 col0\" >Body boarding</td>\n",
       "      <td id=\"T_7faf4_row9_col1\" class=\"data row9 col1\" >n</td>\n",
       "      <td id=\"T_7faf4_row9_col2\" class=\"data row9 col2\" >24</td>\n",
       "      <td id=\"T_7faf4_row9_col3\" class=\"data row9 col3\" >1.55%</td>\n",
       "      <td id=\"T_7faf4_row9_col4\" class=\"data row9 col4\" >886</td>\n",
       "      <td id=\"T_7faf4_row9_col5\" class=\"data row9 col5\" >57.12%</td>\n",
       "    </tr>\n",
       "    <tr>\n",
       "      <th id=\"T_7faf4_level0_row10\" class=\"row_heading level0 row10\" >10</th>\n",
       "      <td id=\"T_7faf4_row10_col0\" class=\"data row10 col0\" >Diving</td>\n",
       "      <td id=\"T_7faf4_row10_col1\" class=\"data row10 col1\" >n</td>\n",
       "      <td id=\"T_7faf4_row10_col2\" class=\"data row10 col2\" >19</td>\n",
       "      <td id=\"T_7faf4_row10_col3\" class=\"data row10 col3\" >1.23%</td>\n",
       "      <td id=\"T_7faf4_row10_col4\" class=\"data row10 col4\" >905</td>\n",
       "      <td id=\"T_7faf4_row10_col5\" class=\"data row10 col5\" >58.35%</td>\n",
       "    </tr>\n",
       "    <tr>\n",
       "      <th id=\"T_7faf4_level0_row11\" class=\"row_heading level0 row11\" >11</th>\n",
       "      <td id=\"T_7faf4_row11_col0\" class=\"data row11 col0\" >Scuba diving</td>\n",
       "      <td id=\"T_7faf4_row11_col1\" class=\"data row11 col1\" >n</td>\n",
       "      <td id=\"T_7faf4_row11_col2\" class=\"data row11 col2\" >17</td>\n",
       "      <td id=\"T_7faf4_row11_col3\" class=\"data row11 col3\" >1.10%</td>\n",
       "      <td id=\"T_7faf4_row11_col4\" class=\"data row11 col4\" >922</td>\n",
       "      <td id=\"T_7faf4_row11_col5\" class=\"data row11 col5\" >59.45%</td>\n",
       "    </tr>\n",
       "    <tr>\n",
       "      <th id=\"T_7faf4_level0_row12\" class=\"row_heading level0 row12\" >12</th>\n",
       "      <td id=\"T_7faf4_row12_col0\" class=\"data row12 col0\" >others</td>\n",
       "      <td id=\"T_7faf4_row12_col1\" class=\"data row12 col1\" >others</td>\n",
       "      <td id=\"T_7faf4_row12_col2\" class=\"data row12 col2\" >629</td>\n",
       "      <td id=\"T_7faf4_row12_col3\" class=\"data row12 col3\" >40.55%</td>\n",
       "      <td id=\"T_7faf4_row12_col4\" class=\"data row12 col4\" >1,551</td>\n",
       "      <td id=\"T_7faf4_row12_col5\" class=\"data row12 col5\" >100.00%</td>\n",
       "    </tr>\n",
       "  </tbody>\n",
       "</table>\n"
      ],
      "text/plain": [
       "<pandas.io.formats.style.Styler at 0x7f81e102c0d0>"
      ]
     },
     "execution_count": 12,
     "metadata": {},
     "output_type": "execute_result"
    }
   ],
   "source": [
    "df2.stb.freq([\"activity\",\"fatal\"], thresh = 60, style = True)"
   ]
  },
  {
   "cell_type": "markdown",
   "metadata": {},
   "source": [
    "5. Por último, realizad este análisis para la columna fecha (la que creamos en el último ejercicio de pair programming de Pandas) en relación a la columna fatal. Mostrad solo los resultados para las categorías que incluyan el 60% de los datos.\n",
    "\n",
    "    Tendriamos que revisar los datos porque nos sale con % mas alto el año 0. Nos parece evidente que haya un problema con la limpieza de esta columna y de los \"años\".Mas allá de esto si ignoracimos este fallo podriamos decir que se han producido mas ataques en el año 2015.Parece que están distribuidos de manera mas o menos equilibrada."
   ]
  },
  {
   "cell_type": "code",
   "execution_count": 13,
   "metadata": {},
   "outputs": [
    {
     "data": {
      "text/html": [
       "<style type=\"text/css\">\n",
       "</style>\n",
       "<table id=\"T_435a3\">\n",
       "  <thead>\n",
       "    <tr>\n",
       "      <th class=\"blank level0\" >&nbsp;</th>\n",
       "      <th id=\"T_435a3_level0_col0\" class=\"col_heading level0 col0\" >year</th>\n",
       "      <th id=\"T_435a3_level0_col1\" class=\"col_heading level0 col1\" >fatal</th>\n",
       "      <th id=\"T_435a3_level0_col2\" class=\"col_heading level0 col2\" >count</th>\n",
       "      <th id=\"T_435a3_level0_col3\" class=\"col_heading level0 col3\" >percent</th>\n",
       "      <th id=\"T_435a3_level0_col4\" class=\"col_heading level0 col4\" >cumulative_count</th>\n",
       "      <th id=\"T_435a3_level0_col5\" class=\"col_heading level0 col5\" >cumulative_percent</th>\n",
       "    </tr>\n",
       "  </thead>\n",
       "  <tbody>\n",
       "    <tr>\n",
       "      <th id=\"T_435a3_level0_row0\" class=\"row_heading level0 row0\" >0</th>\n",
       "      <td id=\"T_435a3_row0_col0\" class=\"data row0 col0\" >0.000000</td>\n",
       "      <td id=\"T_435a3_row0_col1\" class=\"data row0 col1\" >n</td>\n",
       "      <td id=\"T_435a3_row0_col2\" class=\"data row0 col2\" >62</td>\n",
       "      <td id=\"T_435a3_row0_col3\" class=\"data row0 col3\" >3.95%</td>\n",
       "      <td id=\"T_435a3_row0_col4\" class=\"data row0 col4\" >62</td>\n",
       "      <td id=\"T_435a3_row0_col5\" class=\"data row0 col5\" >3.95%</td>\n",
       "    </tr>\n",
       "    <tr>\n",
       "      <th id=\"T_435a3_level0_row1\" class=\"row_heading level0 row1\" >1</th>\n",
       "      <td id=\"T_435a3_row1_col0\" class=\"data row1 col0\" >2015.000000</td>\n",
       "      <td id=\"T_435a3_row1_col1\" class=\"data row1 col1\" >n</td>\n",
       "      <td id=\"T_435a3_row1_col2\" class=\"data row1 col2\" >59</td>\n",
       "      <td id=\"T_435a3_row1_col3\" class=\"data row1 col3\" >3.76%</td>\n",
       "      <td id=\"T_435a3_row1_col4\" class=\"data row1 col4\" >121</td>\n",
       "      <td id=\"T_435a3_row1_col5\" class=\"data row1 col5\" >7.71%</td>\n",
       "    </tr>\n",
       "    <tr>\n",
       "      <th id=\"T_435a3_level0_row2\" class=\"row_heading level0 row2\" >2</th>\n",
       "      <td id=\"T_435a3_row2_col0\" class=\"data row2 col0\" >0.000000</td>\n",
       "      <td id=\"T_435a3_row2_col1\" class=\"data row2 col1\" >y</td>\n",
       "      <td id=\"T_435a3_row2_col2\" class=\"data row2 col2\" >55</td>\n",
       "      <td id=\"T_435a3_row2_col3\" class=\"data row2 col3\" >3.51%</td>\n",
       "      <td id=\"T_435a3_row2_col4\" class=\"data row2 col4\" >176</td>\n",
       "      <td id=\"T_435a3_row2_col5\" class=\"data row2 col5\" >11.22%</td>\n",
       "    </tr>\n",
       "    <tr>\n",
       "      <th id=\"T_435a3_level0_row3\" class=\"row_heading level0 row3\" >3</th>\n",
       "      <td id=\"T_435a3_row3_col0\" class=\"data row3 col0\" >2007.000000</td>\n",
       "      <td id=\"T_435a3_row3_col1\" class=\"data row3 col1\" >n</td>\n",
       "      <td id=\"T_435a3_row3_col2\" class=\"data row3 col2\" >50</td>\n",
       "      <td id=\"T_435a3_row3_col3\" class=\"data row3 col3\" >3.19%</td>\n",
       "      <td id=\"T_435a3_row3_col4\" class=\"data row3 col4\" >226</td>\n",
       "      <td id=\"T_435a3_row3_col5\" class=\"data row3 col5\" >14.40%</td>\n",
       "    </tr>\n",
       "    <tr>\n",
       "      <th id=\"T_435a3_level0_row4\" class=\"row_heading level0 row4\" >4</th>\n",
       "      <td id=\"T_435a3_row4_col0\" class=\"data row4 col0\" >2002.000000</td>\n",
       "      <td id=\"T_435a3_row4_col1\" class=\"data row4 col1\" >n</td>\n",
       "      <td id=\"T_435a3_row4_col2\" class=\"data row4 col2\" >49</td>\n",
       "      <td id=\"T_435a3_row4_col3\" class=\"data row4 col3\" >3.12%</td>\n",
       "      <td id=\"T_435a3_row4_col4\" class=\"data row4 col4\" >275</td>\n",
       "      <td id=\"T_435a3_row4_col5\" class=\"data row4 col5\" >17.53%</td>\n",
       "    </tr>\n",
       "    <tr>\n",
       "      <th id=\"T_435a3_level0_row5\" class=\"row_heading level0 row5\" >5</th>\n",
       "      <td id=\"T_435a3_row5_col0\" class=\"data row5 col0\" >2012.000000</td>\n",
       "      <td id=\"T_435a3_row5_col1\" class=\"data row5 col1\" >n</td>\n",
       "      <td id=\"T_435a3_row5_col2\" class=\"data row5 col2\" >47</td>\n",
       "      <td id=\"T_435a3_row5_col3\" class=\"data row5 col3\" >3.00%</td>\n",
       "      <td id=\"T_435a3_row5_col4\" class=\"data row5 col4\" >322</td>\n",
       "      <td id=\"T_435a3_row5_col5\" class=\"data row5 col5\" >20.52%</td>\n",
       "    </tr>\n",
       "    <tr>\n",
       "      <th id=\"T_435a3_level0_row6\" class=\"row_heading level0 row6\" >6</th>\n",
       "      <td id=\"T_435a3_row6_col0\" class=\"data row6 col0\" >2013.000000</td>\n",
       "      <td id=\"T_435a3_row6_col1\" class=\"data row6 col1\" >n</td>\n",
       "      <td id=\"T_435a3_row6_col2\" class=\"data row6 col2\" >41</td>\n",
       "      <td id=\"T_435a3_row6_col3\" class=\"data row6 col3\" >2.61%</td>\n",
       "      <td id=\"T_435a3_row6_col4\" class=\"data row6 col4\" >363</td>\n",
       "      <td id=\"T_435a3_row6_col5\" class=\"data row6 col5\" >23.14%</td>\n",
       "    </tr>\n",
       "    <tr>\n",
       "      <th id=\"T_435a3_level0_row7\" class=\"row_heading level0 row7\" >7</th>\n",
       "      <td id=\"T_435a3_row7_col0\" class=\"data row7 col0\" >2006.000000</td>\n",
       "      <td id=\"T_435a3_row7_col1\" class=\"data row7 col1\" >n</td>\n",
       "      <td id=\"T_435a3_row7_col2\" class=\"data row7 col2\" >36</td>\n",
       "      <td id=\"T_435a3_row7_col3\" class=\"data row7 col3\" >2.29%</td>\n",
       "      <td id=\"T_435a3_row7_col4\" class=\"data row7 col4\" >399</td>\n",
       "      <td id=\"T_435a3_row7_col5\" class=\"data row7 col5\" >25.43%</td>\n",
       "    </tr>\n",
       "    <tr>\n",
       "      <th id=\"T_435a3_level0_row8\" class=\"row_heading level0 row8\" >8</th>\n",
       "      <td id=\"T_435a3_row8_col0\" class=\"data row8 col0\" >2005.000000</td>\n",
       "      <td id=\"T_435a3_row8_col1\" class=\"data row8 col1\" >n</td>\n",
       "      <td id=\"T_435a3_row8_col2\" class=\"data row8 col2\" >36</td>\n",
       "      <td id=\"T_435a3_row8_col3\" class=\"data row8 col3\" >2.29%</td>\n",
       "      <td id=\"T_435a3_row8_col4\" class=\"data row8 col4\" >435</td>\n",
       "      <td id=\"T_435a3_row8_col5\" class=\"data row8 col5\" >27.72%</td>\n",
       "    </tr>\n",
       "    <tr>\n",
       "      <th id=\"T_435a3_level0_row9\" class=\"row_heading level0 row9\" >9</th>\n",
       "      <td id=\"T_435a3_row9_col0\" class=\"data row9 col0\" >2003.000000</td>\n",
       "      <td id=\"T_435a3_row9_col1\" class=\"data row9 col1\" >n</td>\n",
       "      <td id=\"T_435a3_row9_col2\" class=\"data row9 col2\" >36</td>\n",
       "      <td id=\"T_435a3_row9_col3\" class=\"data row9 col3\" >2.29%</td>\n",
       "      <td id=\"T_435a3_row9_col4\" class=\"data row9 col4\" >471</td>\n",
       "      <td id=\"T_435a3_row9_col5\" class=\"data row9 col5\" >30.02%</td>\n",
       "    </tr>\n",
       "    <tr>\n",
       "      <th id=\"T_435a3_level0_row10\" class=\"row_heading level0 row10\" >10</th>\n",
       "      <td id=\"T_435a3_row10_col0\" class=\"data row10 col0\" >2009.000000</td>\n",
       "      <td id=\"T_435a3_row10_col1\" class=\"data row10 col1\" >n</td>\n",
       "      <td id=\"T_435a3_row10_col2\" class=\"data row10 col2\" >35</td>\n",
       "      <td id=\"T_435a3_row10_col3\" class=\"data row10 col3\" >2.23%</td>\n",
       "      <td id=\"T_435a3_row10_col4\" class=\"data row10 col4\" >506</td>\n",
       "      <td id=\"T_435a3_row10_col5\" class=\"data row10 col5\" >32.25%</td>\n",
       "    </tr>\n",
       "    <tr>\n",
       "      <th id=\"T_435a3_level0_row11\" class=\"row_heading level0 row11\" >11</th>\n",
       "      <td id=\"T_435a3_row11_col0\" class=\"data row11 col0\" >2010.000000</td>\n",
       "      <td id=\"T_435a3_row11_col1\" class=\"data row11 col1\" >n</td>\n",
       "      <td id=\"T_435a3_row11_col2\" class=\"data row11 col2\" >32</td>\n",
       "      <td id=\"T_435a3_row11_col3\" class=\"data row11 col3\" >2.04%</td>\n",
       "      <td id=\"T_435a3_row11_col4\" class=\"data row11 col4\" >538</td>\n",
       "      <td id=\"T_435a3_row11_col5\" class=\"data row11 col5\" >34.29%</td>\n",
       "    </tr>\n",
       "    <tr>\n",
       "      <th id=\"T_435a3_level0_row12\" class=\"row_heading level0 row12\" >12</th>\n",
       "      <td id=\"T_435a3_row12_col0\" class=\"data row12 col0\" >2004.000000</td>\n",
       "      <td id=\"T_435a3_row12_col1\" class=\"data row12 col1\" >n</td>\n",
       "      <td id=\"T_435a3_row12_col2\" class=\"data row12 col2\" >32</td>\n",
       "      <td id=\"T_435a3_row12_col3\" class=\"data row12 col3\" >2.04%</td>\n",
       "      <td id=\"T_435a3_row12_col4\" class=\"data row12 col4\" >570</td>\n",
       "      <td id=\"T_435a3_row12_col5\" class=\"data row12 col5\" >36.33%</td>\n",
       "    </tr>\n",
       "    <tr>\n",
       "      <th id=\"T_435a3_level0_row13\" class=\"row_heading level0 row13\" >13</th>\n",
       "      <td id=\"T_435a3_row13_col0\" class=\"data row13 col0\" >2016.000000</td>\n",
       "      <td id=\"T_435a3_row13_col1\" class=\"data row13 col1\" >n</td>\n",
       "      <td id=\"T_435a3_row13_col2\" class=\"data row13 col2\" >31</td>\n",
       "      <td id=\"T_435a3_row13_col3\" class=\"data row13 col3\" >1.98%</td>\n",
       "      <td id=\"T_435a3_row13_col4\" class=\"data row13 col4\" >601</td>\n",
       "      <td id=\"T_435a3_row13_col5\" class=\"data row13 col5\" >38.30%</td>\n",
       "    </tr>\n",
       "    <tr>\n",
       "      <th id=\"T_435a3_level0_row14\" class=\"row_heading level0 row14\" >14</th>\n",
       "      <td id=\"T_435a3_row14_col0\" class=\"data row14 col0\" >2008.000000</td>\n",
       "      <td id=\"T_435a3_row14_col1\" class=\"data row14 col1\" >n</td>\n",
       "      <td id=\"T_435a3_row14_col2\" class=\"data row14 col2\" >30</td>\n",
       "      <td id=\"T_435a3_row14_col3\" class=\"data row14 col3\" >1.91%</td>\n",
       "      <td id=\"T_435a3_row14_col4\" class=\"data row14 col4\" >631</td>\n",
       "      <td id=\"T_435a3_row14_col5\" class=\"data row14 col5\" >40.22%</td>\n",
       "    </tr>\n",
       "    <tr>\n",
       "      <th id=\"T_435a3_level0_row15\" class=\"row_heading level0 row15\" >15</th>\n",
       "      <td id=\"T_435a3_row15_col0\" class=\"data row15 col0\" >2014.000000</td>\n",
       "      <td id=\"T_435a3_row15_col1\" class=\"data row15 col1\" >n</td>\n",
       "      <td id=\"T_435a3_row15_col2\" class=\"data row15 col2\" >28</td>\n",
       "      <td id=\"T_435a3_row15_col3\" class=\"data row15 col3\" >1.78%</td>\n",
       "      <td id=\"T_435a3_row15_col4\" class=\"data row15 col4\" >659</td>\n",
       "      <td id=\"T_435a3_row15_col5\" class=\"data row15 col5\" >42.00%</td>\n",
       "    </tr>\n",
       "    <tr>\n",
       "      <th id=\"T_435a3_level0_row16\" class=\"row_heading level0 row16\" >16</th>\n",
       "      <td id=\"T_435a3_row16_col0\" class=\"data row16 col0\" >2011.000000</td>\n",
       "      <td id=\"T_435a3_row16_col1\" class=\"data row16 col1\" >n</td>\n",
       "      <td id=\"T_435a3_row16_col2\" class=\"data row16 col2\" >26</td>\n",
       "      <td id=\"T_435a3_row16_col3\" class=\"data row16 col3\" >1.66%</td>\n",
       "      <td id=\"T_435a3_row16_col4\" class=\"data row16 col4\" >685</td>\n",
       "      <td id=\"T_435a3_row16_col5\" class=\"data row16 col5\" >43.66%</td>\n",
       "    </tr>\n",
       "    <tr>\n",
       "      <th id=\"T_435a3_level0_row17\" class=\"row_heading level0 row17\" >17</th>\n",
       "      <td id=\"T_435a3_row17_col0\" class=\"data row17 col0\" >2001.000000</td>\n",
       "      <td id=\"T_435a3_row17_col1\" class=\"data row17 col1\" >n</td>\n",
       "      <td id=\"T_435a3_row17_col2\" class=\"data row17 col2\" >26</td>\n",
       "      <td id=\"T_435a3_row17_col3\" class=\"data row17 col3\" >1.66%</td>\n",
       "      <td id=\"T_435a3_row17_col4\" class=\"data row17 col4\" >711</td>\n",
       "      <td id=\"T_435a3_row17_col5\" class=\"data row17 col5\" >45.32%</td>\n",
       "    </tr>\n",
       "    <tr>\n",
       "      <th id=\"T_435a3_level0_row18\" class=\"row_heading level0 row18\" >18</th>\n",
       "      <td id=\"T_435a3_row18_col0\" class=\"data row18 col0\" >2000.000000</td>\n",
       "      <td id=\"T_435a3_row18_col1\" class=\"data row18 col1\" >n</td>\n",
       "      <td id=\"T_435a3_row18_col2\" class=\"data row18 col2\" >26</td>\n",
       "      <td id=\"T_435a3_row18_col3\" class=\"data row18 col3\" >1.66%</td>\n",
       "      <td id=\"T_435a3_row18_col4\" class=\"data row18 col4\" >737</td>\n",
       "      <td id=\"T_435a3_row18_col5\" class=\"data row18 col5\" >46.97%</td>\n",
       "    </tr>\n",
       "    <tr>\n",
       "      <th id=\"T_435a3_level0_row19\" class=\"row_heading level0 row19\" >19</th>\n",
       "      <td id=\"T_435a3_row19_col0\" class=\"data row19 col0\" >2017.000000</td>\n",
       "      <td id=\"T_435a3_row19_col1\" class=\"data row19 col1\" >n</td>\n",
       "      <td id=\"T_435a3_row19_col2\" class=\"data row19 col2\" >23</td>\n",
       "      <td id=\"T_435a3_row19_col3\" class=\"data row19 col3\" >1.47%</td>\n",
       "      <td id=\"T_435a3_row19_col4\" class=\"data row19 col4\" >760</td>\n",
       "      <td id=\"T_435a3_row19_col5\" class=\"data row19 col5\" >48.44%</td>\n",
       "    </tr>\n",
       "    <tr>\n",
       "      <th id=\"T_435a3_level0_row20\" class=\"row_heading level0 row20\" >20</th>\n",
       "      <td id=\"T_435a3_row20_col0\" class=\"data row20 col0\" >1999.000000</td>\n",
       "      <td id=\"T_435a3_row20_col1\" class=\"data row20 col1\" >n</td>\n",
       "      <td id=\"T_435a3_row20_col2\" class=\"data row20 col2\" >23</td>\n",
       "      <td id=\"T_435a3_row20_col3\" class=\"data row20 col3\" >1.47%</td>\n",
       "      <td id=\"T_435a3_row20_col4\" class=\"data row20 col4\" >783</td>\n",
       "      <td id=\"T_435a3_row20_col5\" class=\"data row20 col5\" >49.90%</td>\n",
       "    </tr>\n",
       "    <tr>\n",
       "      <th id=\"T_435a3_level0_row21\" class=\"row_heading level0 row21\" >21</th>\n",
       "      <td id=\"T_435a3_row21_col0\" class=\"data row21 col0\" >1961.000000</td>\n",
       "      <td id=\"T_435a3_row21_col1\" class=\"data row21 col1\" >n</td>\n",
       "      <td id=\"T_435a3_row21_col2\" class=\"data row21 col2\" >20</td>\n",
       "      <td id=\"T_435a3_row21_col3\" class=\"data row21 col3\" >1.27%</td>\n",
       "      <td id=\"T_435a3_row21_col4\" class=\"data row21 col4\" >803</td>\n",
       "      <td id=\"T_435a3_row21_col5\" class=\"data row21 col5\" >51.18%</td>\n",
       "    </tr>\n",
       "    <tr>\n",
       "      <th id=\"T_435a3_level0_row22\" class=\"row_heading level0 row22\" >22</th>\n",
       "      <td id=\"T_435a3_row22_col0\" class=\"data row22 col0\" >1995.000000</td>\n",
       "      <td id=\"T_435a3_row22_col1\" class=\"data row22 col1\" >n</td>\n",
       "      <td id=\"T_435a3_row22_col2\" class=\"data row22 col2\" >19</td>\n",
       "      <td id=\"T_435a3_row22_col3\" class=\"data row22 col3\" >1.21%</td>\n",
       "      <td id=\"T_435a3_row22_col4\" class=\"data row22 col4\" >822</td>\n",
       "      <td id=\"T_435a3_row22_col5\" class=\"data row22 col5\" >52.39%</td>\n",
       "    </tr>\n",
       "    <tr>\n",
       "      <th id=\"T_435a3_level0_row23\" class=\"row_heading level0 row23\" >23</th>\n",
       "      <td id=\"T_435a3_row23_col0\" class=\"data row23 col0\" >1996.000000</td>\n",
       "      <td id=\"T_435a3_row23_col1\" class=\"data row23 col1\" >n</td>\n",
       "      <td id=\"T_435a3_row23_col2\" class=\"data row23 col2\" >18</td>\n",
       "      <td id=\"T_435a3_row23_col3\" class=\"data row23 col3\" >1.15%</td>\n",
       "      <td id=\"T_435a3_row23_col4\" class=\"data row23 col4\" >840</td>\n",
       "      <td id=\"T_435a3_row23_col5\" class=\"data row23 col5\" >53.54%</td>\n",
       "    </tr>\n",
       "    <tr>\n",
       "      <th id=\"T_435a3_level0_row24\" class=\"row_heading level0 row24\" >24</th>\n",
       "      <td id=\"T_435a3_row24_col0\" class=\"data row24 col0\" >1992.000000</td>\n",
       "      <td id=\"T_435a3_row24_col1\" class=\"data row24 col1\" >n</td>\n",
       "      <td id=\"T_435a3_row24_col2\" class=\"data row24 col2\" >18</td>\n",
       "      <td id=\"T_435a3_row24_col3\" class=\"data row24 col3\" >1.15%</td>\n",
       "      <td id=\"T_435a3_row24_col4\" class=\"data row24 col4\" >858</td>\n",
       "      <td id=\"T_435a3_row24_col5\" class=\"data row24 col5\" >54.68%</td>\n",
       "    </tr>\n",
       "    <tr>\n",
       "      <th id=\"T_435a3_level0_row25\" class=\"row_heading level0 row25\" >25</th>\n",
       "      <td id=\"T_435a3_row25_col0\" class=\"data row25 col0\" >1963.000000</td>\n",
       "      <td id=\"T_435a3_row25_col1\" class=\"data row25 col1\" >n</td>\n",
       "      <td id=\"T_435a3_row25_col2\" class=\"data row25 col2\" >18</td>\n",
       "      <td id=\"T_435a3_row25_col3\" class=\"data row25 col3\" >1.15%</td>\n",
       "      <td id=\"T_435a3_row25_col4\" class=\"data row25 col4\" >876</td>\n",
       "      <td id=\"T_435a3_row25_col5\" class=\"data row25 col5\" >55.83%</td>\n",
       "    </tr>\n",
       "    <tr>\n",
       "      <th id=\"T_435a3_level0_row26\" class=\"row_heading level0 row26\" >26</th>\n",
       "      <td id=\"T_435a3_row26_col0\" class=\"data row26 col0\" >1998.000000</td>\n",
       "      <td id=\"T_435a3_row26_col1\" class=\"data row26 col1\" >n</td>\n",
       "      <td id=\"T_435a3_row26_col2\" class=\"data row26 col2\" >17</td>\n",
       "      <td id=\"T_435a3_row26_col3\" class=\"data row26 col3\" >1.08%</td>\n",
       "      <td id=\"T_435a3_row26_col4\" class=\"data row26 col4\" >893</td>\n",
       "      <td id=\"T_435a3_row26_col5\" class=\"data row26 col5\" >56.92%</td>\n",
       "    </tr>\n",
       "    <tr>\n",
       "      <th id=\"T_435a3_level0_row27\" class=\"row_heading level0 row27\" >27</th>\n",
       "      <td id=\"T_435a3_row27_col0\" class=\"data row27 col0\" >1993.000000</td>\n",
       "      <td id=\"T_435a3_row27_col1\" class=\"data row27 col1\" >n</td>\n",
       "      <td id=\"T_435a3_row27_col2\" class=\"data row27 col2\" >17</td>\n",
       "      <td id=\"T_435a3_row27_col3\" class=\"data row27 col3\" >1.08%</td>\n",
       "      <td id=\"T_435a3_row27_col4\" class=\"data row27 col4\" >910</td>\n",
       "      <td id=\"T_435a3_row27_col5\" class=\"data row27 col5\" >58.00%</td>\n",
       "    </tr>\n",
       "    <tr>\n",
       "      <th id=\"T_435a3_level0_row28\" class=\"row_heading level0 row28\" >28</th>\n",
       "      <td id=\"T_435a3_row28_col0\" class=\"data row28 col0\" >2018.000000</td>\n",
       "      <td id=\"T_435a3_row28_col1\" class=\"data row28 col1\" >n</td>\n",
       "      <td id=\"T_435a3_row28_col2\" class=\"data row28 col2\" >16</td>\n",
       "      <td id=\"T_435a3_row28_col3\" class=\"data row28 col3\" >1.02%</td>\n",
       "      <td id=\"T_435a3_row28_col4\" class=\"data row28 col4\" >926</td>\n",
       "      <td id=\"T_435a3_row28_col5\" class=\"data row28 col5\" >59.02%</td>\n",
       "    </tr>\n",
       "    <tr>\n",
       "      <th id=\"T_435a3_level0_row29\" class=\"row_heading level0 row29\" >29</th>\n",
       "      <td id=\"T_435a3_row29_col0\" class=\"data row29 col0\" >others</td>\n",
       "      <td id=\"T_435a3_row29_col1\" class=\"data row29 col1\" >others</td>\n",
       "      <td id=\"T_435a3_row29_col2\" class=\"data row29 col2\" >643</td>\n",
       "      <td id=\"T_435a3_row29_col3\" class=\"data row29 col3\" >40.98%</td>\n",
       "      <td id=\"T_435a3_row29_col4\" class=\"data row29 col4\" >1,569</td>\n",
       "      <td id=\"T_435a3_row29_col5\" class=\"data row29 col5\" >100.00%</td>\n",
       "    </tr>\n",
       "  </tbody>\n",
       "</table>\n"
      ],
      "text/plain": [
       "<pandas.io.formats.style.Styler at 0x7f81e4270c10>"
      ]
     },
     "execution_count": 13,
     "metadata": {},
     "output_type": "execute_result"
    }
   ],
   "source": [
    "df.stb.freq([\"year\",\"fatal\"], thresh = 60,style = True)"
   ]
  },
  {
   "cell_type": "code",
   "execution_count": 14,
   "metadata": {},
   "outputs": [
    {
     "data": {
      "text/plain": [
       "array(['25-Jun-2018', '03-Jun-2018', '26-May-2018', ..., '1900-1905',\n",
       "       '1883-1889', '1845-1853'], dtype=object)"
      ]
     },
     "execution_count": 14,
     "metadata": {},
     "output_type": "execute_result"
    }
   ],
   "source": [
    "df2[\"date\"].unique()"
   ]
  },
  {
   "cell_type": "markdown",
   "metadata": {},
   "source": [
    "### Conclusiones\n",
    "Si bien es cierto que la lección de hoy ha sido muy teórica, en esta parte los ejercicios no serán tanto de programar sino de pensar 🤔. ¿Qué tendréis que hacer?\n",
    "- En relación a los valores nulos:\n",
    "        \n",
    "    - Identificar las columnas que tienen nulos (lo hicimos en el ejercicio de pair programming EDA I y en el de hoy con el *sidetable*).\n",
    "    \n",
    "    - Debatid entre vosotras qué haríais con los valores nulos, ¿los quitaríais o los reemplazaríais con un valor que nosotras decidiremos?. Cread una celda de markdown en vuestro jupyter y escribid vuestras conclusiones.\n",
    "\n",
    "-   En relación a los outliers, ya hemos ido conociendo un poco nuestro dataframe y de momento solo tenemos una columna de tipo numérico, por lo tanto, poco podemos hacer. Un poco más adelante, cuando hayamos hecho una serie de cambios sobre nuestras columnas podremos hacer una evaluación más profunda de estos."
   ]
  },
  {
   "cell_type": "markdown",
   "metadata": {},
   "source": [
    "Averiguando los resultado que son nulos hemos visto que en general no son muchos, pero a la hora de hacer una analysis sobre los ataques por año que son fatales o no, hemos visto que tendremos que analizar y comparar la columna year con date porque en date aun que no salgan valores nulos sales mucho con 0."
   ]
  },
  {
   "cell_type": "code",
   "execution_count": 15,
   "metadata": {},
   "outputs": [],
   "source": [
    "df.replace(0000, np.nan, inplace = True)"
   ]
  }
 ],
 "metadata": {
  "kernelspec": {
   "display_name": "Python 3.9.7 ('base')",
   "language": "python",
   "name": "python3"
  },
  "language_info": {
   "codemirror_mode": {
    "name": "ipython",
    "version": 3
   },
   "file_extension": ".py",
   "mimetype": "text/x-python",
   "name": "python",
   "nbconvert_exporter": "python",
   "pygments_lexer": "ipython3",
   "version": "3.9.7"
  },
  "orig_nbformat": 4,
  "vscode": {
   "interpreter": {
    "hash": "651c3b7b3f466eb030aa737f279c846be4db9cba49a2f229278cab5e41121ed5"
   }
  }
 },
 "nbformat": 4,
 "nbformat_minor": 2
}
