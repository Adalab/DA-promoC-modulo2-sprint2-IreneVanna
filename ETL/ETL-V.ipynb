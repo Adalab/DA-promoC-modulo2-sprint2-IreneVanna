{
 "cells": [
  {
   "cell_type": "markdown",
   "metadata": {},
   "source": [
    "# Pair Programming ETL V"
   ]
  },
  {
   "cell_type": "markdown",
   "metadata": {},
   "source": [
    "Igual que en el ejercicio de pair programming de ETL Transformación II, tendréis que crear una clase que nos permita cargar los datos en SQL I."
   ]
  },
  {
   "cell_type": "code",
   "execution_count": 2,
   "metadata": {},
   "outputs": [],
   "source": [
    "from IPython.core.interactiveshell import InteractiveShell \n",
    "InteractiveShell.ast_node_interactivity = \"all\"\n",
    "\n",
    "import requests\n",
    "import pandas as pd\n",
    "import numpy as np\n",
    "\n",
    "import mysql.connector\n",
    "\n",
    "pd.options.display.max_columns = None"
   ]
  },
  {
   "cell_type": "code",
   "execution_count": 3,
   "metadata": {},
   "outputs": [],
   "source": [
    "class crear_insertar:\n",
    "\n",
    "    def __init__(self,bbdd, contraseña):\n",
    "\n",
    "        self.bbdd = bbdd\n",
    "        self.contraseña = contraseña\n",
    "\n",
    "    def crear_bbdd(self):\n",
    "\n",
    "        mydb = mysql.connector.connect(\n",
    "            host=\"localhost\",\n",
    "            user=\"root\",\n",
    "            password= self.contraseña\n",
    "        )\n",
    "        print(\"Conexión realizada con éxito\")\n",
    "    \n",
    "        mycursor = mydb.cursor()\n",
    "\n",
    "        try:\n",
    "            mycursor.execute(f\"CREATE DATABASE IF NOT EXISTS {self.bbdd};\")\n",
    "            print(mycursor)\n",
    "        except mysql.connector.Error as err:\n",
    "            print(err)\n",
    "            print(\"Error Code:\", err.errno)\n",
    "            print(\"SQLSTATE\", err.sqlstate)\n",
    "            print(\"Message\", err.msg)\n",
    "            \n",
    "    def insertar_tabla(self, query):\n",
    "        \n",
    "        self.query = query \n",
    "    \n",
    "        cnx = mysql.connector.connect(user='root', password=f\"{self.contraseña}\",\n",
    "                                     host='127.0.0.1', database=f\"{self.bbdd}\")\n",
    "\n",
    "        mycursor = cnx.cursor()\n",
    "    \n",
    "   \n",
    "        try: \n",
    "            mycursor.execute(query)\n",
    "            cnx.commit() \n",
    "    \n",
    "        except mysql.connector.Error as err:\n",
    "            print(err)\n",
    "            print(\"Error Code:\", err.errno)\n",
    "            print(\"SQLSTATE\", err.sqlstate)\n",
    "            print(\"Message\", err.msg)"
   ]
  },
  {
   "cell_type": "code",
   "execution_count": 4,
   "metadata": {},
   "outputs": [],
   "source": [
    "df_ataque = pd.read_csv('../datos/datos_limpiezaV.csv', index_col = 0)\n",
    "df_clima = pd.read_csv('../datos/datos_clima.csv', index_col = 0)"
   ]
  },
  {
   "cell_type": "code",
   "execution_count": 6,
   "metadata": {},
   "outputs": [
    {
     "data": {
      "text/plain": [
       "Index(['year', 'country', 'age', 'species', 'date', 'month', 'fatal', 'sex',\n",
       "       'main_species', 'age_numbers', 'age_numbers_mean', 'sex_moda'],\n",
       "      dtype='object')"
      ]
     },
     "execution_count": 6,
     "metadata": {},
     "output_type": "execute_result"
    }
   ],
   "source": [
    "df_ataque.columns"
   ]
  },
  {
   "cell_type": "code",
   "execution_count": 8,
   "metadata": {},
   "outputs": [
    {
     "ename": "SyntaxError",
     "evalue": "invalid syntax (4112464300.py, line 2)",
     "output_type": "error",
     "traceback": [
      "\u001b[0;36m  File \u001b[0;32m\"/var/folders/66/3gn2x5sj3tlfxjp4wp1zg9n00000gn/T/ipykernel_3040/4112464300.py\"\u001b[0;36m, line \u001b[0;32m2\u001b[0m\n\u001b[0;31m    query = f\"INSERT INTO df_ataque( 'year', 'country', 'age', 'species', 'date', 'month', 'fatal', 'sex','main_species', 'age_numbers', 'age_numbers_mean', 'sex_moda') VALUES(\"{filas[\"year\"]}\",\"{filas[\"country\"]}\",\"{filas[\"age\"]}\",\"{filas[\"species\"]}\",\"{filas[\"date\"]}\",\"{filas[\"month\"]}\",\"{filas[\"fatal\"]}\",\"{filas[\"sex\"]}\",\"{filas[\"main_species\"]}\",\"{filas[\"age_numbers\"]}\",\"{filas[\"age_numbers_mean\"]}\",\"{filas[\"sex_moda\"]}\");\u001b[0m\n\u001b[0m                                                                                                                                                                                 ^\u001b[0m\n\u001b[0;31mSyntaxError\u001b[0m\u001b[0;31m:\u001b[0m invalid syntax\n"
     ]
    }
   ],
   "source": [
    "for indices, filas in df_ataque.interrows():\n",
    "    query = f\"\"\"\n",
    "    INSERT INTO df_ataque( 'year', 'country', 'age', 'species', 'date', 'month', 'fatal', 'sex','main_species', 'age_numbers', 'age_numbers_mean', 'sex_moda')\n",
    "    VALUES(\"{filas[\"year\"]}\",\"{filas[\"country\"]}\",\"{filas[\"age\"]}\",\"{filas[\"species\"]}\",\"{filas[\"date\"]}\",\"{filas[\"month\"]}\",\"{filas[\"fatal\"]}\",\"{filas[\"sex\"]}\",\"{filas[\"main_species\"]}\",\"{filas[\"age_numbers\"]}\",\"{filas[\"age_numbers_mean\"]}\",\"{filas[\"sex_moda\"]}\");\n",
    "    \"\"\"\n",
    "    "
   ]
  }
 ],
 "metadata": {
  "kernelspec": {
   "display_name": "Python 3.9.7 ('base')",
   "language": "python",
   "name": "python3"
  },
  "language_info": {
   "codemirror_mode": {
    "name": "ipython",
    "version": 3
   },
   "file_extension": ".py",
   "mimetype": "text/x-python",
   "name": "python",
   "nbconvert_exporter": "python",
   "pygments_lexer": "ipython3",
   "version": "3.9.7"
  },
  "orig_nbformat": 4,
  "vscode": {
   "interpreter": {
    "hash": "651c3b7b3f466eb030aa737f279c846be4db9cba49a2f229278cab5e41121ed5"
   }
  }
 },
 "nbformat": 4,
 "nbformat_minor": 2
}
