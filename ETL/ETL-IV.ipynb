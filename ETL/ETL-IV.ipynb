{
 "cells": [
  {
   "cell_type": "markdown",
   "metadata": {},
   "source": [
    "# Pair Programming ETL IV"
   ]
  },
  {
   "cell_type": "markdown",
   "metadata": {},
   "source": [
    "En este ejercicio nos crearemos dos tablas en una BBDD creada por nosotras. \n",
    "\n",
    "Una de las tablas contendrá la información que obtuvimos de los ejercicios de pair programming de Limpieza, es decir, el data set de ataques de tiburones limpito. \n",
    "\n",
    "La segunda tabla tendrá la información obtenida en el ejercicio de pair de ETL 1.\n",
    "\n",
    "\n",
    "📌 Nota Todo lo tendremos que hacer desde jupyter notebook"
   ]
  },
  {
   "cell_type": "code",
   "execution_count": 24,
   "metadata": {},
   "outputs": [],
   "source": [
    "from IPython.core.interactiveshell import InteractiveShell \n",
    "InteractiveShell.ast_node_interactivity = \"all\"\n",
    "\n",
    "import requests\n",
    "import pandas as pd\n",
    "import numpy as np\n",
    "\n",
    "import mysql.connector\n",
    "\n",
    "pd.options.display.max_columns = None"
   ]
  },
  {
   "cell_type": "markdown",
   "metadata": {},
   "source": [
    "1. Cread la BBDD con el nombre de tiburones."
   ]
  },
  {
   "cell_type": "code",
   "execution_count": 25,
   "metadata": {},
   "outputs": [],
   "source": [
    "def crear_bbdd(nombre_bbdd):\n",
    "\n",
    "    mydb = mysql.connector.connect(\n",
    "      host=\"localhost\",\n",
    "      user=\"root\",\n",
    "      password=\"AlumnaAdalab\" \n",
    "    )\n",
    "    print(\"Conexión realizada con éxito\")\n",
    "    \n",
    "    mycursor = mydb.cursor()\n",
    "\n",
    "    try:\n",
    "        mycursor.execute(f\"CREATE DATABASE IF NOT EXISTS {nombre_bbdd};\")\n",
    "        print(mycursor)\n",
    "    except mysql.connector.Error as err:\n",
    "        print(err)\n",
    "        print(\"Error Code:\", err.errno)\n",
    "        print(\"SQLSTATE\", err.sqlstate)\n",
    "        print(\"Message\", err.msg)"
   ]
  },
  {
   "cell_type": "code",
   "execution_count": 26,
   "metadata": {},
   "outputs": [
    {
     "name": "stdout",
     "output_type": "stream",
     "text": [
      "Conexión realizada con éxito\n",
      "MySQLCursor: CREATE DATABASE IF NOT EXISTS tiburones1..\n"
     ]
    }
   ],
   "source": [
    "mydb = crear_bbdd(\"tiburones1\")"
   ]
  },
  {
   "cell_type": "markdown",
   "metadata": {},
   "source": [
    "2. Cread las tablas de la BBDD:\n",
    "    - Tabla ataques \n",
    "    - Tabla clima"
   ]
  },
  {
   "cell_type": "code",
   "execution_count": 27,
   "metadata": {},
   "outputs": [],
   "source": [
    "def crear_insertar_tabla(nombre_bbdd, contraseña, query):\n",
    "    \n",
    "    cnx = mysql.connector.connect(user='root', password=f\"{contraseña}\",\n",
    "                                     host='127.0.0.1', database=f\"{nombre_bbdd}\")\n",
    "\n",
    "    mycursor = cnx.cursor()\n",
    "    \n",
    "   \n",
    "    try: \n",
    "        mycursor.execute(query)\n",
    "        cnx.commit() \n",
    "    \n",
    "    except mysql.connector.Error as err:\n",
    "        print(err)\n",
    "        print(\"Error Code:\", err.errno)\n",
    "        print(\"SQLSTATE\", err.sqlstate)\n",
    "        print(\"Message\", err.msg)"
   ]
  },
  {
   "cell_type": "code",
   "execution_count": 28,
   "metadata": {},
   "outputs": [],
   "source": [
    "df_ataque = pd.read_csv('../datos/datos_limpiezaV.csv', index_col = 0)\n",
    "df_clima = pd.read_csv('../datos/datos_clima.csv', index_col = 0)\n"
   ]
  },
  {
   "cell_type": "code",
   "execution_count": 29,
   "metadata": {},
   "outputs": [
    {
     "name": "stdout",
     "output_type": "stream",
     "text": [
      "<class 'pandas.core.frame.DataFrame'>\n",
      "Int64Index: 1666 entries, 0 to 1665\n",
      "Data columns (total 12 columns):\n",
      " #   Column            Non-Null Count  Dtype  \n",
      "---  ------            --------------  -----  \n",
      " 0   year              1666 non-null   float64\n",
      " 1   country           1666 non-null   object \n",
      " 2   age               1518 non-null   object \n",
      " 3   species           1545 non-null   object \n",
      " 4   date              1666 non-null   object \n",
      " 5   month             1617 non-null   object \n",
      " 6   fatal             1666 non-null   object \n",
      " 7   sex               1652 non-null   object \n",
      " 8   main_species      1666 non-null   object \n",
      " 9   age_numbers       1666 non-null   float64\n",
      " 10  age_numbers_mean  1666 non-null   float64\n",
      " 11  sex_moda          1666 non-null   object \n",
      "dtypes: float64(3), object(9)\n",
      "memory usage: 169.2+ KB\n"
     ]
    }
   ],
   "source": [
    "df_ataque.info()"
   ]
  },
  {
   "cell_type": "code",
   "execution_count": 30,
   "metadata": {},
   "outputs": [
    {
     "data": {
      "text/plain": [
       "year                  0\n",
       "country               0\n",
       "age                 148\n",
       "species             121\n",
       "date                  0\n",
       "month                49\n",
       "fatal                 0\n",
       "sex                  14\n",
       "main_species          0\n",
       "age_numbers           0\n",
       "age_numbers_mean      0\n",
       "sex_moda              0\n",
       "dtype: int64"
      ]
     },
     "execution_count": 30,
     "metadata": {},
     "output_type": "execute_result"
    }
   ],
   "source": [
    "df_ataque.isnull().sum()"
   ]
  },
  {
   "cell_type": "code",
   "execution_count": 31,
   "metadata": {},
   "outputs": [],
   "source": [
    "tabla_ataques = '''\n",
    "CREATE TABLE IF NOT EXISTS `tiburones1`.`ataques` (\n",
    "  `id` INT NOT NULL AUTO_INCREMENT,\n",
    "  `year` FLOAT NOT NULL,\n",
    "  `country` VARCHAR (45) NOT NULL,\n",
    "  `age` VARCHAR (45),\n",
    "  `species` VARCHAR (45),\n",
    "  `date` VARCHAR (45) NOT NULL,\n",
    "  `month` VARCHAR (45) ,\n",
    "  `fatal` VARCHAR (45) NOT NULL,\n",
    "  `sex` VARCHAR (45) ,\n",
    "  `main_species` VARCHAR (45) NOT NULL,\n",
    "  `age_numbers` FLOAT NOT NULL,\n",
    "  `age_numbers_mean` FLOAT NOT NULL,\n",
    "  `sex_moda` VARCHAR (45) NOT NULL,\n",
    "  PRIMARY KEY (`id`))\n",
    "ENGINE = InnoDB;\n",
    "'''"
   ]
  },
  {
   "cell_type": "code",
   "execution_count": 32,
   "metadata": {},
   "outputs": [
    {
     "name": "stdout",
     "output_type": "stream",
     "text": [
      "<class 'pandas.core.frame.DataFrame'>\n",
      "Int64Index: 320 entries, 0 to 63\n",
      "Data columns (total 17 columns):\n",
      " #   Column             Non-Null Count  Dtype \n",
      "---  ------             --------------  ----- \n",
      " 0   timepoint          320 non-null    int64 \n",
      " 1   cloudcover         320 non-null    int64 \n",
      " 2   highcloud          320 non-null    int64 \n",
      " 3   midcloud           320 non-null    int64 \n",
      " 4   lowcloud           320 non-null    int64 \n",
      " 5   rh_profile         320 non-null    object\n",
      " 6   wind_profile       320 non-null    object\n",
      " 7   temp2m             320 non-null    int64 \n",
      " 8   lifted_index       320 non-null    int64 \n",
      " 9   rh2m               320 non-null    int64 \n",
      " 10  msl_pressure       320 non-null    int64 \n",
      " 11  prec_type          320 non-null    object\n",
      " 12  prec_amount        320 non-null    int64 \n",
      " 13  snow_depth         320 non-null    int64 \n",
      " 14  wind10m.direction  320 non-null    int64 \n",
      " 15  wind10m.speed      320 non-null    int64 \n",
      " 16  country            320 non-null    object\n",
      "dtypes: int64(13), object(4)\n",
      "memory usage: 45.0+ KB\n"
     ]
    }
   ],
   "source": [
    "df_clima.info()"
   ]
  },
  {
   "cell_type": "code",
   "execution_count": 49,
   "metadata": {},
   "outputs": [],
   "source": [
    "tabla_clima = '''\n",
    "CREATE TABLE IF NOT EXISTS `tiburones1`.`clima` (\n",
    "  `id_clima` INT NOT NULL AUTO_INCREMENT,\n",
    "  `timepoint` INT  NOT NULL,\n",
    "  `cloudcover` INT (45) NOT NULL,\n",
    "  `highcloud` INT (45) NOT NULL,\n",
    "  `midcloud` INT (45) NOT NULL,\n",
    "  `lowcloud` INT (45) NOT NULL,\n",
    "  `rh_profile` VARCHAR (45) NOT NULL,\n",
    "  `wind_profile` VARCHAR (45) NOT NULL,\n",
    "  `temp2m` INT (45) NOT NULL,\n",
    "  `lifted_index` INT (45) NOT NULL,\n",
    "  `rh2m` INT (45) NOT NULL,\n",
    "  `msl_pressure` INT (45) NOT NULL,\n",
    "  `prec_type` VARCHAR (45) NOT NULL,\n",
    "  `prec_amount` INT (45) NOT NULL,\n",
    "  `snow_depth` INT (45) NOT NULL,\n",
    "  `wind10m.direction` INT (45) NOT NULL,\n",
    "  `wind10m.speed` INT (45) NOT NULL,\n",
    "  `country` VARCHAR (45) NOT NULL,\n",
    "  `id` INT NOT NULL,\n",
    "  PRIMARY KEY (`id_clima`),\n",
    "  CONSTRAINT `fk_clima_ataques`\n",
    "    FOREIGN KEY (`id`)\n",
    "    REFERENCES `tiburones1`.`ataques` (`id`))\n",
    "ENGINE = InnoDB;\n",
    "'''"
   ]
  },
  {
   "cell_type": "code",
   "execution_count": 50,
   "metadata": {},
   "outputs": [],
   "source": [
    "nombre_bbdd = \"tiburones1\"\n",
    "contraseña = \"AlumnaAdalab\""
   ]
  },
  {
   "cell_type": "code",
   "execution_count": 51,
   "metadata": {},
   "outputs": [],
   "source": [
    "tabla_tiburones = crear_insertar_tabla(nombre_bbdd, contraseña, tabla_ataques)"
   ]
  },
  {
   "cell_type": "code",
   "execution_count": 52,
   "metadata": {},
   "outputs": [],
   "source": [
    "tablas2 = crear_insertar_tabla(\"tiburones1\",\"AlumnaAdalab\",tabla_clima)"
   ]
  }
 ],
 "metadata": {
  "kernelspec": {
   "display_name": "Python 3.9.7 ('base')",
   "language": "python",
   "name": "python3"
  },
  "language_info": {
   "codemirror_mode": {
    "name": "ipython",
    "version": 3
   },
   "file_extension": ".py",
   "mimetype": "text/x-python",
   "name": "python",
   "nbconvert_exporter": "python",
   "pygments_lexer": "ipython3",
   "version": "3.9.7"
  },
  "orig_nbformat": 4,
  "vscode": {
   "interpreter": {
    "hash": "651c3b7b3f466eb030aa737f279c846be4db9cba49a2f229278cab5e41121ed5"
   }
  }
 },
 "nbformat": 4,
 "nbformat_minor": 2
}
