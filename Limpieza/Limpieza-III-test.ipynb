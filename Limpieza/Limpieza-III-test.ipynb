{
 "cells": [
  {
   "cell_type": "markdown",
   "metadata": {},
   "source": [
    "# Pair Programming Limpieza III"
   ]
  },
  {
   "cell_type": "code",
   "execution_count": 1,
   "metadata": {},
   "outputs": [],
   "source": [
    "import pandas as pd\n",
    "pd.options.display.max_columns = None\n",
    "import re\n",
    "import sidetable\n",
    "import numpy as np\n",
    "import matplotlib.pyplot as plt\n",
    "import seaborn as sns"
   ]
  },
  {
   "cell_type": "code",
   "execution_count": 12,
   "metadata": {},
   "outputs": [
    {
     "data": {
      "text/html": [
       "<div>\n",
       "<style scoped>\n",
       "    .dataframe tbody tr th:only-of-type {\n",
       "        vertical-align: middle;\n",
       "    }\n",
       "\n",
       "    .dataframe tbody tr th {\n",
       "        vertical-align: top;\n",
       "    }\n",
       "\n",
       "    .dataframe thead th {\n",
       "        text-align: right;\n",
       "    }\n",
       "</style>\n",
       "<table border=\"1\" class=\"dataframe\">\n",
       "  <thead>\n",
       "    <tr style=\"text-align: right;\">\n",
       "      <th></th>\n",
       "      <th>year</th>\n",
       "      <th>country</th>\n",
       "      <th>age</th>\n",
       "      <th>species</th>\n",
       "      <th>date</th>\n",
       "      <th>month</th>\n",
       "      <th>fatal</th>\n",
       "      <th>sex</th>\n",
       "      <th>main_species</th>\n",
       "      <th>age_numbers</th>\n",
       "    </tr>\n",
       "  </thead>\n",
       "  <tbody>\n",
       "    <tr>\n",
       "      <th>0</th>\n",
       "      <td>2018</td>\n",
       "      <td>usa</td>\n",
       "      <td>57</td>\n",
       "      <td>White shark</td>\n",
       "      <td>25-Jun-2018</td>\n",
       "      <td>Jun</td>\n",
       "      <td>n</td>\n",
       "      <td>F</td>\n",
       "      <td>white_shark</td>\n",
       "      <td>57.0</td>\n",
       "    </tr>\n",
       "    <tr>\n",
       "      <th>1</th>\n",
       "      <td>2018</td>\n",
       "      <td>brazil</td>\n",
       "      <td>18</td>\n",
       "      <td>Tiger shark</td>\n",
       "      <td>03-Jun-2018</td>\n",
       "      <td>Jun</td>\n",
       "      <td>y</td>\n",
       "      <td>M</td>\n",
       "      <td>tiger_shark</td>\n",
       "      <td>18.0</td>\n",
       "    </tr>\n",
       "  </tbody>\n",
       "</table>\n",
       "</div>"
      ],
      "text/plain": [
       "   year country age      species         date month fatal sex main_species  \\\n",
       "0  2018     usa  57  White shark  25-Jun-2018   Jun     n   F  white_shark   \n",
       "1  2018  brazil  18  Tiger shark  03-Jun-2018   Jun     y   M  tiger_shark   \n",
       "\n",
       "   age_numbers  \n",
       "0         57.0  \n",
       "1         18.0  "
      ]
     },
     "execution_count": 12,
     "metadata": {},
     "output_type": "execute_result"
    }
   ],
   "source": [
    "df = pd.read_csv(\"../datos/datos_limpiezaII.csv\")\n",
    "df.head(2)"
   ]
  },
  {
   "cell_type": "markdown",
   "metadata": {},
   "source": [
    "1. ¿Sobre qué columnas podremos eliminar o reemplazar los outliers?\n",
    "\n",
    "    Tenemos 2 columnas en la que podemos trabajar con los outliers, abajo podemos ver estas columnas numericas: *\"year\"* y *\"age_numvers\"*. Creamos una DF con solamente estas dos variables para que podamos trabajar con ellas."
   ]
  },
  {
   "cell_type": "code",
   "execution_count": 3,
   "metadata": {},
   "outputs": [
    {
     "name": "stdout",
     "output_type": "stream",
     "text": [
      "<class 'pandas.core.frame.DataFrame'>\n",
      "RangeIndex: 1666 entries, 0 to 1665\n",
      "Data columns (total 10 columns):\n",
      " #   Column        Non-Null Count  Dtype  \n",
      "---  ------        --------------  -----  \n",
      " 0   year          1666 non-null   int64  \n",
      " 1   country       1656 non-null   object \n",
      " 2   age           1518 non-null   object \n",
      " 3   species       1545 non-null   object \n",
      " 4   date          1666 non-null   object \n",
      " 5   month         1617 non-null   object \n",
      " 6   fatal         1569 non-null   object \n",
      " 7   sex           1652 non-null   object \n",
      " 8   main_species  1666 non-null   object \n",
      " 9   age_numbers   1514 non-null   float64\n",
      "dtypes: float64(1), int64(1), object(8)\n",
      "memory usage: 130.3+ KB\n"
     ]
    }
   ],
   "source": [
    "df.info()"
   ]
  },
  {
   "cell_type": "code",
   "execution_count": 4,
   "metadata": {},
   "outputs": [],
   "source": [
    "df_numericas = df.select_dtypes(include=np.number)"
   ]
  },
  {
   "cell_type": "markdown",
   "metadata": {},
   "source": [
    "2. Identifica visualmente los outliers.\n",
    "\n",
    "    Teniendo en cuenta que en este fichero se va a utilizar una sola grafica decidimos añadir las medida directamente en el subplot que creamos abajo."
   ]
  },
  {
   "cell_type": "code",
   "execution_count": 13,
   "metadata": {},
   "outputs": [
    {
     "data": {
      "image/png": "[encoded data removed]",
      "text/plain": [
       "<Figure size 864x864 with 2 Axes>"
      ]
     },
     "metadata": {
      "needs_background": "light"
     },
     "output_type": "display_data"
    }
   ],
   "source": [
    "fig, ax = plt.subplots(2, 1, figsize=(12,12))\n",
    "\n",
    "for i in range(len(df_numericas.columns)):\n",
    "    sns.boxplot(x=df_numericas.columns[i], data=df_numericas, ax=ax[i])\n",
    "plt.show()"
   ]
  },
  {
   "cell_type": "markdown",
   "metadata": {},
   "source": [
    "3. Identifica sobre el dataframe las filas que son outliers"
   ]
  },
  {
   "cell_type": "code",
   "execution_count": 6,
   "metadata": {},
   "outputs": [],
   "source": [
    "def detectar_outliers(columnas, dataframe): \n",
    "    \n",
    "    dicc_indices = {}\n",
    "\n",
    "    for col in columnas :\n",
    "    \n",
    "        Q1 = np.nanpercentile(df[col], 25)\n",
    "        Q3 = np.nanpercentile(df[col], 75)\n",
    "\n",
    "        IQR = Q3 - Q1\n",
    "\n",
    "        outlier_1_5 = 1.5 * IQR\n",
    "\n",
    "        outliers = df[(df[col] < Q1 - outlier_1_5) | (df[col] > Q3 + outlier_1_5)]\n",
    "        \n",
    "        if outliers.shape[0] > 0: # chequeamos si nuestro dataframe tiene alguna fila. \n",
    "        \n",
    "            dicc_indices[col] = (list(outliers.index))\n",
    "            \n",
    "    return dicc_indices "
   ]
  },
  {
   "cell_type": "code",
   "execution_count": 7,
   "metadata": {},
   "outputs": [
    {
     "data": {
      "text/plain": [
       "['year', 'age_numbers']"
      ]
     },
     "execution_count": 7,
     "metadata": {},
     "output_type": "execute_result"
    }
   ],
   "source": [
    "columnas_numericas = list(df_numericas.columns)\n",
    "columnas_numericas"
   ]
  },
  {
   "cell_type": "code",
   "execution_count": 15,
   "metadata": {},
   "outputs": [],
   "source": [
    "indices = detectar_outliers(columnas_numericas, df)\n",
    "# esta es la variable que nos indica los indices de los outliers. Hemos decidido no mostrar los resultados porque\n",
    "#son muchos numero."
   ]
  },
  {
   "cell_type": "markdown",
   "metadata": {},
   "source": [
    "4. Reemplaza los outliers por el estadístico más correcto."
   ]
  },
  {
   "cell_type": "code",
   "execution_count": 9,
   "metadata": {},
   "outputs": [],
   "source": [
    "# con lo siguiente vamos a iterar entre los indices que tenemos arriba, calcularemos la media de estos valores.\n",
    "#y los vamos a remplazar.\n",
    "for keys, values in indices.items():\n",
    "    media = round(df[keys].mean(),1) # pongo el round para que salga un numero sin demasiados decimales(pero dejamos uno para que sepa cual son en caso que en futuro querramos cambiarlos)\n",
    "    for x in values: \n",
    "        df.loc[x,keys] = media "
   ]
  },
  {
   "cell_type": "code",
   "execution_count": 10,
   "metadata": {},
   "outputs": [
    {
     "data": {
      "text/plain": [
       "array([57. , 18. , 15. , 32. , 21. , 30. , 60. , 33. , 19. , 25. , 10. ,\n",
       "       28.7, 55. , 35. , 20. , 54. , 22. , 31. , 40. , 37. , 11. , 13. ,\n",
       "       34. , 50. , 46. , 48. , 17. , 28. , 65. , 58. , 36. , 51. , 61. ,\n",
       "       59. , 42. ,  6. , 27. , 23. , 29. , 39. , 24. , 12. , 26. , 43. ,\n",
       "        9. , 44. , 14. , 62. , 52. , 38. , 16. , 47. , 63. , 41. , 53. ,\n",
       "        7. , 45. , 64. ,  8. , 56. , 49. ,  nan,  5. ])"
      ]
     },
     "execution_count": 10,
     "metadata": {},
     "output_type": "execute_result"
    }
   ],
   "source": [
    "#aqui podemos identificar facilmente la media al ser 28.7.\n",
    "df[\"age_numbers\"].unique()"
   ]
  },
  {
   "cell_type": "markdown",
   "metadata": {},
   "source": [
    "5. Guarda el csv con las columnas limpias para seguir trabajando con este dataframe limpio en el siguiente pair programming de limpieza"
   ]
  },
  {
   "cell_type": "code",
   "execution_count": 11,
   "metadata": {},
   "outputs": [],
   "source": [
    "df.to_csv(\"../datos/datos_limpiezaIII.csv\", index = False)"
   ]
  }
 ],
 "metadata": {
  "kernelspec": {
   "display_name": "Python 3.9.7 ('base')",
   "language": "python",
   "name": "python3"
  },
  "language_info": {
   "codemirror_mode": {
    "name": "ipython",
    "version": 3
   },
   "file_extension": ".py",
   "mimetype": "text/x-python",
   "name": "python",
   "nbconvert_exporter": "python",
   "pygments_lexer": "ipython3",
   "version": "3.9.7"
  },
  "orig_nbformat": 4,
  "vscode": {
   "interpreter": {
    "hash": "651c3b7b3f466eb030aa737f279c846be4db9cba49a2f229278cab5e41121ed5"
   }
  }
 },
 "nbformat": 4,
 "nbformat_minor": 2
}
