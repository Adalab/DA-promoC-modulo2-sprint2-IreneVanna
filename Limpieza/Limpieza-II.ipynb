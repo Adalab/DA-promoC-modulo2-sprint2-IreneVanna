{
 "cells": [
  {
   "cell_type": "markdown",
   "metadata": {},
   "source": [
    "# Pair Programming Limpieza II"
   ]
  },
  {
   "cell_type": "code",
   "execution_count": 126,
   "metadata": {},
   "outputs": [],
   "source": [
    "import pandas as pd\n",
    "pd.options.display.max_columns = None\n",
    "import re\n",
    "import sidetable\n",
    "import numpy as np"
   ]
  },
  {
   "cell_type": "code",
   "execution_count": 127,
   "metadata": {},
   "outputs": [
    {
     "data": {
      "text/html": [
       "<div>\n",
       "<style scoped>\n",
       "    .dataframe tbody tr th:only-of-type {\n",
       "        vertical-align: middle;\n",
       "    }\n",
       "\n",
       "    .dataframe tbody tr th {\n",
       "        vertical-align: top;\n",
       "    }\n",
       "\n",
       "    .dataframe thead th {\n",
       "        text-align: right;\n",
       "    }\n",
       "</style>\n",
       "<table border=\"1\" class=\"dataframe\">\n",
       "  <thead>\n",
       "    <tr style=\"text-align: right;\">\n",
       "      <th></th>\n",
       "      <th>year</th>\n",
       "      <th>country</th>\n",
       "      <th>age</th>\n",
       "      <th>species_</th>\n",
       "      <th>date</th>\n",
       "      <th>mes</th>\n",
       "      <th>fatal</th>\n",
       "      <th>sexo</th>\n",
       "    </tr>\n",
       "  </thead>\n",
       "  <tbody>\n",
       "    <tr>\n",
       "      <th>0</th>\n",
       "      <td>2018</td>\n",
       "      <td>usa</td>\n",
       "      <td>57</td>\n",
       "      <td>White shark</td>\n",
       "      <td>25-Jun-2018</td>\n",
       "      <td>Jun</td>\n",
       "      <td>n</td>\n",
       "      <td>F</td>\n",
       "    </tr>\n",
       "  </tbody>\n",
       "</table>\n",
       "</div>"
      ],
      "text/plain": [
       "   year country age     species_         date  mes fatal sexo\n",
       "0  2018     usa  57  White shark  25-Jun-2018  Jun     n    F"
      ]
     },
     "execution_count": 127,
     "metadata": {},
     "output_type": "execute_result"
    }
   ],
   "source": [
    "df = pd.read_csv('../datos/datos_limpiezaI.csv', index_col= 0)\n",
    "df.head(1)"
   ]
  },
  {
   "cell_type": "code",
   "execution_count": 128,
   "metadata": {},
   "outputs": [
    {
     "data": {
      "text/plain": [
       "Index(['year', 'country', 'age', 'species', 'date', 'month', 'fatal', 'sex'], dtype='object')"
      ]
     },
     "execution_count": 128,
     "metadata": {},
     "output_type": "execute_result"
    }
   ],
   "source": [
    "df.rename(columns = {\"species_\": \"species\",\"mes\": \"month\",\"sexo\": \"sex\" }, inplace = True)\n",
    "df.columns\n",
    "#cambiamos los nombres de todas las columnas a ingles"
   ]
  },
  {
   "cell_type": "markdown",
   "metadata": {},
   "source": [
    "1. Columna de species: si exploramos esta columna en detalle nos podemos dar cuenta que tenemos muchos valores únicos y esto hace que sea muy difícil trabajar con esta columna. \n",
    "\n",
    "    - Lo que vamos a hacer es clasificar los tiburones en 5 especies diferentes, las más comunes, que incluyen el tiburón blanco (*White*), el tiburón tigre (*Tiger*), el tiburón gris (*Grey*), el tiburón limón (*Lemon*) y el tiburón toro (*Bull*). \n",
    "\n",
    "    - El resto de las especies las incluiremos en un único grupo que podremos llamar *\"Unspecified\"*. Ahora nos podemos sentir un poco abrumadas y no saber como enfrentarnos a este reto, pero don't worry, os dejamos por aquí unas 💡 pistas 💡 para que os ayuden a entender cómo hacerlo.\n",
    "\n",
    "    Los valores de las columnas son strings por lo que podremos usar regex para buscar palabras clave en cada celda y asignarlo a una de las categorías que hemos definido previamente."
   ]
  },
  {
   "cell_type": "markdown",
   "metadata": {},
   "source": [
    "- Tendremos que crearnos una función que aplicaremos sobre nuestra columna species para que nos devuelva una nueva columna con los valores clasificados en función de los patrones de regex que hayamos definido."
   ]
  },
  {
   "cell_type": "code",
   "execution_count": 129,
   "metadata": {},
   "outputs": [],
   "source": [
    "def categorizar (col):\n",
    "\n",
    "    patron_blanco = re.findall(r\".*[Ww](hite|HITE).*\", str(col))\n",
    "    patron_tigre = re.findall(r\".*[Tt](iger|IGER).*\", str(col))\n",
    "    patron_gris = re.findall(r\".*[Gg](rey|REY).*\", str(col))\n",
    "    patron_limon = re.findall(r\".*[Ll](emon|EMON).*\", str(col))\n",
    "    patron_toro = re.findall(r\".*[Bb](ull|ULL).*\", str(col))\n",
    "\n",
    "    if patron_blanco:\n",
    "        return \"white_shark\"\n",
    "    elif patron_tigre:\n",
    "        return \"tiger_shark\"\n",
    "    elif patron_gris:\n",
    "        return \"grey_shark\"\n",
    "    elif patron_limon:\n",
    "        return \"lemon_shark\"\n",
    "    elif patron_toro:\n",
    "        return \"bull_shark\"\n",
    "    else:\n",
    "        return str(\"unspecified\")\n",
    "\n"
   ]
  },
  {
   "cell_type": "code",
   "execution_count": 130,
   "metadata": {},
   "outputs": [],
   "source": [
    "df[\"main_species\"] = df[\"species\"].apply(categorizar)"
   ]
  },
  {
   "cell_type": "code",
   "execution_count": 131,
   "metadata": {},
   "outputs": [
    {
     "data": {
      "text/html": [
       "<div>\n",
       "<style scoped>\n",
       "    .dataframe tbody tr th:only-of-type {\n",
       "        vertical-align: middle;\n",
       "    }\n",
       "\n",
       "    .dataframe tbody tr th {\n",
       "        vertical-align: top;\n",
       "    }\n",
       "\n",
       "    .dataframe thead th {\n",
       "        text-align: right;\n",
       "    }\n",
       "</style>\n",
       "<table border=\"1\" class=\"dataframe\">\n",
       "  <thead>\n",
       "    <tr style=\"text-align: right;\">\n",
       "      <th></th>\n",
       "      <th>year</th>\n",
       "      <th>country</th>\n",
       "      <th>age</th>\n",
       "      <th>species</th>\n",
       "      <th>date</th>\n",
       "      <th>month</th>\n",
       "      <th>fatal</th>\n",
       "      <th>sex</th>\n",
       "      <th>main_species</th>\n",
       "    </tr>\n",
       "  </thead>\n",
       "  <tbody>\n",
       "    <tr>\n",
       "      <th>0</th>\n",
       "      <td>2018</td>\n",
       "      <td>usa</td>\n",
       "      <td>57</td>\n",
       "      <td>White shark</td>\n",
       "      <td>25-Jun-2018</td>\n",
       "      <td>Jun</td>\n",
       "      <td>n</td>\n",
       "      <td>F</td>\n",
       "      <td>white_shark</td>\n",
       "    </tr>\n",
       "    <tr>\n",
       "      <th>1</th>\n",
       "      <td>2018</td>\n",
       "      <td>brazil</td>\n",
       "      <td>18</td>\n",
       "      <td>Tiger shark</td>\n",
       "      <td>03-Jun-2018</td>\n",
       "      <td>Jun</td>\n",
       "      <td>y</td>\n",
       "      <td>M</td>\n",
       "      <td>tiger_shark</td>\n",
       "    </tr>\n",
       "    <tr>\n",
       "      <th>2</th>\n",
       "      <td>2018</td>\n",
       "      <td>usa</td>\n",
       "      <td>15</td>\n",
       "      <td>Bull shark, 6'</td>\n",
       "      <td>26-May-2018</td>\n",
       "      <td>May</td>\n",
       "      <td>n</td>\n",
       "      <td>M</td>\n",
       "      <td>bull_shark</td>\n",
       "    </tr>\n",
       "    <tr>\n",
       "      <th>3</th>\n",
       "      <td>2018</td>\n",
       "      <td>australia</td>\n",
       "      <td>32</td>\n",
       "      <td>Grey reef shark</td>\n",
       "      <td>24-May-2018</td>\n",
       "      <td>May</td>\n",
       "      <td>n</td>\n",
       "      <td>M</td>\n",
       "      <td>grey_shark</td>\n",
       "    </tr>\n",
       "    <tr>\n",
       "      <th>4</th>\n",
       "      <td>2018</td>\n",
       "      <td>england</td>\n",
       "      <td>21</td>\n",
       "      <td>Invalid incident</td>\n",
       "      <td>13-May-2018</td>\n",
       "      <td>May</td>\n",
       "      <td>n</td>\n",
       "      <td>M</td>\n",
       "      <td>unspecified</td>\n",
       "    </tr>\n",
       "  </tbody>\n",
       "</table>\n",
       "</div>"
      ],
      "text/plain": [
       "   year    country age           species         date month fatal sex  \\\n",
       "0  2018        usa  57       White shark  25-Jun-2018   Jun     n   F   \n",
       "1  2018     brazil  18       Tiger shark  03-Jun-2018   Jun     y   M   \n",
       "2  2018        usa  15    Bull shark, 6'  26-May-2018   May     n   M   \n",
       "3  2018  australia  32   Grey reef shark  24-May-2018   May     n   M   \n",
       "4  2018    england  21  Invalid incident  13-May-2018   May     n   M   \n",
       "\n",
       "  main_species  \n",
       "0  white_shark  \n",
       "1  tiger_shark  \n",
       "2   bull_shark  \n",
       "3   grey_shark  \n",
       "4  unspecified  "
      ]
     },
     "execution_count": 131,
     "metadata": {},
     "output_type": "execute_result"
    }
   ],
   "source": [
    "df.head()\n",
    "#averiguamos se haya creado la columna main_species."
   ]
  },
  {
   "cell_type": "code",
   "execution_count": 132,
   "metadata": {},
   "outputs": [
    {
     "data": {
      "text/html": [
       "<style type=\"text/css\">\n",
       "</style>\n",
       "<table id=\"T_1763d\">\n",
       "  <thead>\n",
       "    <tr>\n",
       "      <th class=\"blank level0\" >&nbsp;</th>\n",
       "      <th id=\"T_1763d_level0_col0\" class=\"col_heading level0 col0\" >main_species</th>\n",
       "      <th id=\"T_1763d_level0_col1\" class=\"col_heading level0 col1\" >count</th>\n",
       "      <th id=\"T_1763d_level0_col2\" class=\"col_heading level0 col2\" >percent</th>\n",
       "      <th id=\"T_1763d_level0_col3\" class=\"col_heading level0 col3\" >cumulative_count</th>\n",
       "      <th id=\"T_1763d_level0_col4\" class=\"col_heading level0 col4\" >cumulative_percent</th>\n",
       "    </tr>\n",
       "  </thead>\n",
       "  <tbody>\n",
       "    <tr>\n",
       "      <th id=\"T_1763d_level0_row0\" class=\"row_heading level0 row0\" >0</th>\n",
       "      <td id=\"T_1763d_row0_col0\" class=\"data row0 col0\" >unspecified</td>\n",
       "      <td id=\"T_1763d_row0_col1\" class=\"data row0 col1\" >978</td>\n",
       "      <td id=\"T_1763d_row0_col2\" class=\"data row0 col2\" >58.70%</td>\n",
       "      <td id=\"T_1763d_row0_col3\" class=\"data row0 col3\" >978</td>\n",
       "      <td id=\"T_1763d_row0_col4\" class=\"data row0 col4\" >58.70%</td>\n",
       "    </tr>\n",
       "    <tr>\n",
       "      <th id=\"T_1763d_level0_row1\" class=\"row_heading level0 row1\" >1</th>\n",
       "      <td id=\"T_1763d_row1_col0\" class=\"data row1 col0\" >white_shark</td>\n",
       "      <td id=\"T_1763d_row1_col1\" class=\"data row1 col1\" >386</td>\n",
       "      <td id=\"T_1763d_row1_col2\" class=\"data row1 col2\" >23.17%</td>\n",
       "      <td id=\"T_1763d_row1_col3\" class=\"data row1 col3\" >1,364</td>\n",
       "      <td id=\"T_1763d_row1_col4\" class=\"data row1 col4\" >81.87%</td>\n",
       "    </tr>\n",
       "    <tr>\n",
       "      <th id=\"T_1763d_level0_row2\" class=\"row_heading level0 row2\" >2</th>\n",
       "      <td id=\"T_1763d_row2_col0\" class=\"data row2 col0\" >tiger_shark</td>\n",
       "      <td id=\"T_1763d_row2_col1\" class=\"data row2 col1\" >157</td>\n",
       "      <td id=\"T_1763d_row2_col2\" class=\"data row2 col2\" >9.42%</td>\n",
       "      <td id=\"T_1763d_row2_col3\" class=\"data row2 col3\" >1,521</td>\n",
       "      <td id=\"T_1763d_row2_col4\" class=\"data row2 col4\" >91.30%</td>\n",
       "    </tr>\n",
       "    <tr>\n",
       "      <th id=\"T_1763d_level0_row3\" class=\"row_heading level0 row3\" >3</th>\n",
       "      <td id=\"T_1763d_row3_col0\" class=\"data row3 col0\" >bull_shark</td>\n",
       "      <td id=\"T_1763d_row3_col1\" class=\"data row3 col1\" >104</td>\n",
       "      <td id=\"T_1763d_row3_col2\" class=\"data row3 col2\" >6.24%</td>\n",
       "      <td id=\"T_1763d_row3_col3\" class=\"data row3 col3\" >1,625</td>\n",
       "      <td id=\"T_1763d_row3_col4\" class=\"data row3 col4\" >97.54%</td>\n",
       "    </tr>\n",
       "    <tr>\n",
       "      <th id=\"T_1763d_level0_row4\" class=\"row_heading level0 row4\" >4</th>\n",
       "      <td id=\"T_1763d_row4_col0\" class=\"data row4 col0\" >grey_shark</td>\n",
       "      <td id=\"T_1763d_row4_col1\" class=\"data row4 col1\" >30</td>\n",
       "      <td id=\"T_1763d_row4_col2\" class=\"data row4 col2\" >1.80%</td>\n",
       "      <td id=\"T_1763d_row4_col3\" class=\"data row4 col3\" >1,655</td>\n",
       "      <td id=\"T_1763d_row4_col4\" class=\"data row4 col4\" >99.34%</td>\n",
       "    </tr>\n",
       "    <tr>\n",
       "      <th id=\"T_1763d_level0_row5\" class=\"row_heading level0 row5\" >5</th>\n",
       "      <td id=\"T_1763d_row5_col0\" class=\"data row5 col0\" >lemon_shark</td>\n",
       "      <td id=\"T_1763d_row5_col1\" class=\"data row5 col1\" >11</td>\n",
       "      <td id=\"T_1763d_row5_col2\" class=\"data row5 col2\" >0.66%</td>\n",
       "      <td id=\"T_1763d_row5_col3\" class=\"data row5 col3\" >1,666</td>\n",
       "      <td id=\"T_1763d_row5_col4\" class=\"data row5 col4\" >100.00%</td>\n",
       "    </tr>\n",
       "  </tbody>\n",
       "</table>\n"
      ],
      "text/plain": [
       "<pandas.io.formats.style.Styler at 0x7fe6752c9580>"
      ]
     },
     "execution_count": 132,
     "metadata": {},
     "output_type": "execute_result"
    }
   ],
   "source": [
    "df.stb.freq([\"main_species\"],style=True)\n",
    "#averiguamos el % de cadas especies"
   ]
  },
  {
   "cell_type": "markdown",
   "metadata": {},
   "source": [
    "2. Columna de *age*: es una columna de tipo string pero debería ser de tipo integer. Además, en esta columna nos vamos a encontrar con algunos errores tipográficos, estos incluyen:\n",
    "    - Edad en formato string\n",
    "    - Edades separadas por &, or, to, >\n",
    "    - Edades con ?"
   ]
  },
  {
   "cell_type": "markdown",
   "metadata": {},
   "source": [
    "Vamos con algunas 💡 pistas 💡 para que os ayuden a entender cómo hacerlo:\n",
    "- Primero tendremos que eliminar todos esos símbolos especiales que nos aparecen. De nuevo, podremos usar regex para extraer unicamente los números que es lo que nos interesa. Usar este regex en una función para sacar solo los números.\n",
    "- Puede que os salga un error similar a este:\n",
    "    - TypeError: expected string or bytes-like object\n",
    "    - Para solucionar este problema, antes de nada tendréis que ejecutar este código para que no os de error:\n",
    "    - df['nombre_columna'] = df['nombre_columna'].astype(str)\n",
    "- Una vez que hayáis extraido los números, os daréis cuenta que hay celdas que tienen más de una edad. Tendréis que decidir que hacer en esos casos. Os dejamos por aquí una posible opción usando un método de Pandas que os puede resultar super útil. El método explode, aqui.\n",
    "- Por último cambiad el tipo de la columna de string a integer."
   ]
  },
  {
   "cell_type": "code",
   "execution_count": 133,
   "metadata": {},
   "outputs": [],
   "source": [
    "df['age'] = df['age'].astype(str)"
   ]
  },
  {
   "cell_type": "code",
   "execution_count": 134,
   "metadata": {},
   "outputs": [],
   "source": [
    "#def limpia_edad(edad):\n",
    "    #patron_r = re.findall(r\"\\d+\", str(edad))\n",
    "    #patron_r = \"\\d+\"\n",
    "    #try:\n",
    "     #   return re.findall(patron_r, str(edad))\n",
    "    #except:\n",
    "     #   np.nan    \n"
   ]
  },
  {
   "cell_type": "code",
   "execution_count": 135,
   "metadata": {},
   "outputs": [],
   "source": [
    "def limpia_edad(edad):\n",
    "    #patron_r = re.findall(r\"\\d+\", str(edad))\n",
    "    patron_r = \"\\d+\"\n",
    "    try:\n",
    "        return re.findall(patron_r, str(edad))[0]    \n",
    "    except:\n",
    "        np.nan    "
   ]
  },
  {
   "cell_type": "code",
   "execution_count": 136,
   "metadata": {},
   "outputs": [],
   "source": [
    "df[\"age_numbers\"]=(df[\"age\"].apply(limpia_edad))"
   ]
  },
  {
   "cell_type": "code",
   "execution_count": 137,
   "metadata": {},
   "outputs": [],
   "source": [
    "df['age_numbers'] = df['age_numbers'].astype(\"int\", errors = 'ignore')"
   ]
  },
  {
   "cell_type": "code",
   "execution_count": 146,
   "metadata": {},
   "outputs": [
    {
     "data": {
      "text/plain": [
       "array(['57', '18', '15', '32', '21', '30', '60', '33', '19', '25', '10',\n",
       "       '69', '55', '35', '20', '54', '22', '31', '40', '37', '11', '13',\n",
       "       '34', '50', '46', '48', '17', '28', '65', '73', '58', '36', '51',\n",
       "       '61', '59', '42', '6', '27', '23', '29', '39', '24', '12', '26',\n",
       "       '71', '43', '9', '44', '14', '62', '52', '38', '68', '16', '47',\n",
       "       '63', '70', '41', '53', '7', '66', '45', '74', '64', '8', '56',\n",
       "       '49', None, '77', '84', '5', '67'], dtype=object)"
      ]
     },
     "execution_count": 146,
     "metadata": {},
     "output_type": "execute_result"
    }
   ],
   "source": [
    "#averiguamos los unicos\n",
    "df['age_numbers'].unique()"
   ]
  },
  {
   "cell_type": "markdown",
   "metadata": {},
   "source": [
    "3. Guarda el csv con las columnas limpias para seguir trabajando con este dataframe limpio."
   ]
  },
  {
   "cell_type": "code",
   "execution_count": 159,
   "metadata": {},
   "outputs": [],
   "source": [
    "df.to_csv(\"../datos/datos_limpiezaII.csv\", index = False)"
   ]
  }
 ],
 "metadata": {
  "kernelspec": {
   "display_name": "Python 3.9.7 ('base')",
   "language": "python",
   "name": "python3"
  },
  "language_info": {
   "codemirror_mode": {
    "name": "ipython",
    "version": 3
   },
   "file_extension": ".py",
   "mimetype": "text/x-python",
   "name": "python",
   "nbconvert_exporter": "python",
   "pygments_lexer": "ipython3",
   "version": "3.9.7"
  },
  "orig_nbformat": 4,
  "vscode": {
   "interpreter": {
    "hash": "651c3b7b3f466eb030aa737f279c846be4db9cba49a2f229278cab5e41121ed5"
   }
  }
 },
 "nbformat": 4,
 "nbformat_minor": 2
}
